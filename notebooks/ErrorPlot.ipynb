{
 "cells": [
  {
   "cell_type": "code",
   "execution_count": 3,
   "metadata": {},
   "outputs": [],
   "source": [
    "# import packages\n",
    "import os, sys, glob\n",
    "import numpy as np\n",
    "import pandas as pd\n",
    "import matplotlib.pyplot as plt\n",
    "\n",
    "from tqdm.auto import tqdm\n",
    "from ipywidgets import FloatProgress\n",
    "from scipy import ndimage\n",
    "from PIL import Image\n",
    "from importlib import reload\n",
    "\n",
    "sys.path.append('../')"
   ]
  },
  {
   "cell_type": "markdown",
   "metadata": {},
   "source": [
    "## Plot Errors per Image"
   ]
  },
  {
   "cell_type": "code",
   "execution_count": 5,
   "metadata": {},
   "outputs": [],
   "source": [
    "# options\n",
    "image_path = \"../pennycress_pods/test/test_predictions/\"\n",
    "mask_path = \"../pennycress_pods/test/test_masks/\"\n",
    "\n",
    "# load image data\n",
    "image_names = glob.glob(mask_path + \"*.png\")\n",
    "image_names = [os.path.basename(x) for x in image_names]"
   ]
  },
  {
   "cell_type": "code",
   "execution_count": null,
   "metadata": {},
   "outputs": [],
   "source": [
    "# loop through predicted images and compare to ground truth\n",
    "\n",
    "for image in image_names:\n",
    "    \n",
    "    # load images\n",
    "    image = Image.open(image_path + image_name)\n",
    "    image = np.array(image) / 255.0\n",
    "\n",
    "    mask = np.array(Image.open(mask_path + image_name))[:,:,:3] / 255.0\n",
    "\n",
    "    # fix weird mask behavior - all px. values are 0 or 1\n",
    "    mask[mask > 0] = 1\n",
    "\n",
    "    # separate into wing, seed, env channel\n",
    "    wing_mask\n",
    "    env_mask\n",
    "    seed_mask\n",
    "\n",
    "    wing_pred\n",
    "    env_pred\n",
    "    seed_pred\n",
    "\n",
    "    # find fp, fn\n",
    "\n",
    "    # plot"
   ]
  },
  {
   "cell_type": "code",
   "execution_count": null,
   "metadata": {},
   "outputs": [],
   "source": []
  }
 ],
 "metadata": {
  "kernelspec": {
   "display_name": ".venv",
   "language": "python",
   "name": "python3"
  },
  "language_info": {
   "codemirror_mode": {
    "name": "ipython",
    "version": 3
   },
   "file_extension": ".py",
   "mimetype": "text/x-python",
   "name": "python",
   "nbconvert_exporter": "python",
   "pygments_lexer": "ipython3",
   "version": "3.8.10"
  }
 },
 "nbformat": 4,
 "nbformat_minor": 2
}
