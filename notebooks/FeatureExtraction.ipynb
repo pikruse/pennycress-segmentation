{
 "cells": [
  {
   "cell_type": "code",
   "execution_count": 1,
   "metadata": {},
   "outputs": [
    {
     "name": "stderr",
     "output_type": "stream",
     "text": [
      "/mnt/DGX01/Personal/krusepi/.venv/lib/python3.9/site-packages/albumentations/__init__.py:13: UserWarning: A new version of Albumentations is available: 1.4.18 (you have 1.4.16). Upgrade using: pip install -U albumentations. To disable automatic update checks, set the environment variable NO_ALBUMENTATIONS_UPDATE to 1.\n",
      "  check_for_updates()\n"
     ]
    }
   ],
   "source": [
    "# import necessary libraries\n",
    "import os, glob, sys\n",
    "import numpy as np\n",
    "import matplotlib.pyplot as plt\n",
    "import pandas as pd\n",
    "import cv2\n",
    "import multiprocessing as mp\n",
    "\n",
    "from tqdm.auto import tqdm\n",
    "from ipywidgets import FloatProgress\n",
    "from scipy import ndimage\n",
    "from PIL import Image\n",
    "from importlib import reload\n",
    "from functools import partial\n",
    "\n",
    "# append path\n",
    "sys.path.append('../')\n",
    "\n",
    "# custom\n",
    "from utils.Metrics import iou\n",
    "from utils.Traits import area_calc\n",
    "from utils.GetFileNames import get_file_names\n",
    "import utils.SegmentImage as SegmentImage\n",
    "import utils.Measure as Measure\n",
    "import utils.Preprocessing as Preprocessing"
   ]
  },
  {
   "cell_type": "code",
   "execution_count": 2,
   "metadata": {},
   "outputs": [],
   "source": [
    "# directories\n",
    "seg_path = '../data/pop_scale/pop_scale_segmentations/'\n",
    "in_path = '../data/test/test_images/'\n",
    "postproc_path = '../data/pop_scale/pop_scale_segmentations_postproc/'\n",
    "out_path = '../data/pop_scale/pop_scale_segmentations_by_pod/'\n",
    "save_path = '../data/pop_scale/pop_scale_segmentations_measurements/'\n",
    "\n",
    "# get file names\n",
    "seg_names = get_file_names(seg_path, '.png')"
   ]
  },
  {
   "cell_type": "code",
   "execution_count": 3,
   "metadata": {},
   "outputs": [],
   "source": [
    "def postprocess_multi(seg_img, out_path):\n",
    "    # get image\n",
    "    seg = np.array(Image.open('../data/pop_scale/pop_scale_segmentations/' + seg_img)) / 255\n",
    "\n",
    "    # remove artifacts\n",
    "    post_seg = Preprocessing.remove_artifacts(seg)\n",
    "\n",
    "    # convert to \n",
    "    post_seg = Image.fromarray((post_seg * 255).astype(np.uint8))\n",
    "    post_seg.save(postproc_path + seg_img)"
   ]
  },
  {
   "cell_type": "code",
   "execution_count": 4,
   "metadata": {},
   "outputs": [
    {
     "data": {
      "application/vnd.jupyter.widget-view+json": {
       "model_id": "f1c348fd718e441ab04e8c23e3e1da65",
       "version_major": 2,
       "version_minor": 0
      },
      "text/plain": [
       "  0%|          | 0/767 [00:00<?, ?it/s]"
      ]
     },
     "metadata": {},
     "output_type": "display_data"
    },
    {
     "name": "stdout",
     "output_type": "stream",
     "text": [
      "Postprocessing complete.\n"
     ]
    }
   ],
   "source": [
    "with mp.Pool(mp.cpu_count()) as pool:\n",
    "        r = tqdm(pool.imap(partial(postprocess_multi, out_path=out_path), seg_names),\n",
    "                total = len(seg_names))\n",
    "        for _ in r:\n",
    "                pass\n",
    "print(\"Postprocessing complete.\")"
   ]
  },
  {
   "cell_type": "code",
   "execution_count": 5,
   "metadata": {},
   "outputs": [
    {
     "name": "stdout",
     "output_type": "stream",
     "text": [
      "Measuring pods...\n"
     ]
    },
    {
     "data": {
      "application/vnd.jupyter.widget-view+json": {
       "model_id": "b36357a7ab5040859114075e8de770ff",
       "version_major": 2,
       "version_minor": 0
      },
      "text/plain": [
       "  0%|          | 0/767 [00:00<?, ?it/s]"
      ]
     },
     "metadata": {},
     "output_type": "display_data"
    },
    {
     "name": "stdout",
     "output_type": "stream",
     "text": [
      "Measurements complete.\n"
     ]
    }
   ],
   "source": [
    "# create list to store seed counts and area\n",
    "measurements = []\n",
    "reload(Measure)\n",
    "print(\"Measuring pods...\")\n",
    "with mp.Pool(mp.cpu_count()) as pool:\n",
    "        result = tqdm(pool.imap(partial(Measure.measure_pods, \n",
    "                                   pred_path=postproc_path,\n",
    "                                   input_path=in_path,\n",
    "                                   pod_save_path=out_path),\n",
    "                                   seg_names),\n",
    "                total = len(seg_names))\n",
    "        for r in result:\n",
    "                measurements.extend(r)\n",
    "                pass\n",
    "print(\"Measurements complete.\")"
   ]
  },
  {
   "cell_type": "code",
   "execution_count": 8,
   "metadata": {},
   "outputs": [
    {
     "name": "stdout",
     "output_type": "stream",
     "text": [
      "Number of Pods Measured: 11309\n"
     ]
    }
   ],
   "source": [
    "# save seed counts to csv\n",
    "print(\"Number of Pods Measured:\", len(measurements))\n",
    "measurements = pd.DataFrame(measurements, columns=['image_name', \n",
    "                                                    'seed_count',\n",
    "\n",
    "                                                    # areas\n",
    "                                                    'seed_area',\n",
    "                                                    'env_area',\n",
    "                                                    'wing_area',\n",
    "\n",
    "                                                    # perimeters\n",
    "                                                    'seed_perimeter',\n",
    "                                                    'env_perimeter',\n",
    "                                                    'wing_perimeter',\n",
    "\n",
    "                                                    # ...-to-total_area ratios\n",
    "                                                    'seed_to_total_area',\n",
    "                                                    'env_to_total_area',\n",
    "                                                    'wing_to_total_area',\n",
    "\n",
    "                                                    # ...-to-total_perimeter ratios\n",
    "                                                    'seed_to_total_perimeter',\n",
    "                                                    'env_to_total_perimeter',\n",
    "                                                    'wing_to_total_perimeter',\n",
    "\n",
    "                                                    # ...-to-seed ratios\n",
    "                                                    'env_to_seed_area',\n",
    "                                                    'wing_to_seed_area',\n",
    "                                                    'env_to_seed_perimeter',\n",
    "                                                    'wing_to_seed_perimeter',\n",
    "\n",
    "                                                    # ...-to-env ratios\n",
    "                                                    'wing_to_env_area',\n",
    "                                                    'seed_to_env_area',\n",
    "                                                    'wing_to_env_perimeter',\n",
    "                                                    'seed_to_env_perimeter',\n",
    "\n",
    "                                                    # ...-to-wing ratios\n",
    "                                                    'seed_to_wing_area',\n",
    "                                                    'env_to_wing_area',\n",
    "                                                    'seed_to_wing_perimeter',\n",
    "                                                    'env_to_wing_perimeter',\n",
    "                                                            \n",
    "                                                    # color\n",
    "                                                    'wing_r',\n",
    "                                                    'wing_g',\n",
    "                                                    'wing_b',\n",
    "                                                    'wing_h',\n",
    "                                                    'wing_s',\n",
    "                                                    'wing_v',\n",
    "                                                    'wing_l',\n",
    "                                                    'wing_a', \n",
    "                                                    'wing_B',\n",
    "\n",
    "                                                    'env_r',\n",
    "                                                    'env_g',\n",
    "                                                    'env_b',\n",
    "                                                    'env_h',\n",
    "                                                    'env_s',\n",
    "                                                    'env_v',\n",
    "                                                    'env_l',\n",
    "                                                    'env_a',\n",
    "                                                    'env_B',\n",
    "\n",
    "                                                    'seed_r',\n",
    "                                                    'seed_g',\n",
    "                                                    'seed_b',\n",
    "                                                    'seed_h',\n",
    "                                                    'seed_s',\n",
    "                                                    'seed_v',\n",
    "                                                    'seed_l',\n",
    "                                                    'seed_a',\n",
    "                                                    'seed_B'])\n",
    "\n",
    "# remove outliers \n",
    "# seed count < 1 (outliers)\n",
    "measurements = measurements[measurements[\"seed_count\"] >= 1]\n",
    "\n",
    "# wing area < .2 (outliers)\n",
    "measurements = measurements[measurements[\"wing_area\"] > .2]     \n",
    "        \n",
    "measurements.to_csv(save_path + \"measurements.csv\", index=False)"
   ]
  }
 ],
 "metadata": {
  "kernelspec": {
   "display_name": ".venv",
   "language": "python",
   "name": "python3"
  },
  "language_info": {
   "codemirror_mode": {
    "name": "ipython",
    "version": 3
   },
   "file_extension": ".py",
   "mimetype": "text/x-python",
   "name": "python",
   "nbconvert_exporter": "python",
   "pygments_lexer": "ipython3",
   "version": "3.9.5"
  }
 },
 "nbformat": 4,
 "nbformat_minor": 2
}
