{
 "cells": [
  {
   "cell_type": "code",
   "execution_count": 8,
   "metadata": {},
   "outputs": [],
   "source": [
    "# import necessary packages\n",
    "import os, sys, glob\n",
    "import cv2\n",
    "import numpy as np\n",
    "import pandas as pd\n",
    "import matplotlib.pyplot as plt\n",
    "\n",
    "from tqdm.auto import tqdm\n",
    "from PIL import Image\n",
    "from sklearn.neighbors import NearestNeighbors\n",
    "from scipy import ndimage\n",
    "from importlib import reload\n",
    "\n",
    "sys.path.append('../')\n",
    "\n",
    "# custom imports\n",
    "import utils.DistanceMap as DistanceMap\n",
    "import utils.GradientTransform as GradientTransform"
   ]
  },
  {
   "cell_type": "code",
   "execution_count": 23,
   "metadata": {},
   "outputs": [],
   "source": [
    "# specify paths\n",
    "mask_path = '../pennycress_pods/train/train_masks_by_pod/'\n",
    "save_path = '../pennycress_pods/train/train_smooth_masks_by_pod/'\n",
    "\n",
    "mask_names = [os.path.basename(f) for f in glob.glob(mask_path + '*.png')]"
   ]
  },
  {
   "cell_type": "code",
   "execution_count": 24,
   "metadata": {},
   "outputs": [
    {
     "data": {
      "application/vnd.jupyter.widget-view+json": {
       "model_id": "a20ea9ddfa724356921132068f90bae6",
       "version_major": 2,
       "version_minor": 0
      },
      "text/plain": [
       "  0%|          | 0/164 [00:00<?, ?it/s]"
      ]
     },
     "metadata": {},
     "output_type": "display_data"
    }
   ],
   "source": [
    "# options\n",
    "bw = 5\n",
    "plot = False\n",
    "\n",
    "reload(DistanceMap)\n",
    "reload(GradientTransform)\n",
    "for mask_name in tqdm(mask_names):\n",
    "\n",
    "    # load mask\n",
    "    mask = Image.open(mask_path + mask_name)\n",
    "    mask = np.array(mask) / 255\n",
    "\n",
    "    # run gradient transform function\n",
    "    smooth_mask = GradientTransform.gradient_transform(mask, bwidth=bw)\n",
    "\n",
    "    # plot\n",
    "    if plot:\n",
    "        plt.imshow(smooth_mask[150:325, 150:325]); plt.show()\n",
    "    \n",
    "    # save\n",
    "    mask = Image.fromarray((smooth_mask * 255).astype(np.uint8))\n",
    "    mask.save(save_path + mask_name)\n"
   ]
  }
 ],
 "metadata": {
  "kernelspec": {
   "display_name": ".venv",
   "language": "python",
   "name": "python3"
  },
  "language_info": {
   "codemirror_mode": {
    "name": "ipython",
    "version": 3
   },
   "file_extension": ".py",
   "mimetype": "text/x-python",
   "name": "python",
   "nbconvert_exporter": "python",
   "pygments_lexer": "ipython3",
   "version": "3.8.10"
  }
 },
 "nbformat": 4,
 "nbformat_minor": 2
}
