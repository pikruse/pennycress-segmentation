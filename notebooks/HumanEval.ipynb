{
 "cells": [
  {
   "cell_type": "code",
   "execution_count": 6,
   "metadata": {},
   "outputs": [],
   "source": [
    "# import packages\n",
    "import os, sys, glob\n",
    "import numpy as np\n",
    "\n",
    "from PIL import Image\n",
    "from importlib import reload\n",
    "\n",
    "sys.path.append('../')\n",
    "\n",
    "# custom\n",
    "from utils.GetFileNames import get_file_names\n",
    "import utils.Metrics as Metrics\n"
   ]
  },
  {
   "cell_type": "code",
   "execution_count": 8,
   "metadata": {},
   "outputs": [],
   "source": [
    "# load data + files\n",
    "data_path = \"../data/human_eval/\"\n",
    "gt_path = 'pete/490-ref-ISU_073-rep_1-W.png'\n",
    "model_pred_path = 'model/pred_490-ref-ISU_073-rep_1-W.png'\n",
    "bill_path = 'bill/BILL_490-ref-ISU_073-rep_1-W.png'\n",
    "\n",
    "# gather image names\n",
    "image_names = [gt_path, model_pred_path, bill_path]\n",
    "\n",
    "# load images\n",
    "images = []\n",
    "for name in image_names:\n",
    "    img = Image.open(data_path + name)\n",
    "    img = np.array(img) / 255"
   ]
  },
  {
   "cell_type": "code",
   "execution_count": 9,
   "metadata": {},
   "outputs": [],
   "source": [
    "# load bill image\n",
    "bill = Image.open(data_path + bill_path)\n",
    "bill = np.array(bill) / 255\n"
   ]
  }
 ],
 "metadata": {
  "kernelspec": {
   "display_name": ".venv",
   "language": "python",
   "name": "python3"
  },
  "language_info": {
   "codemirror_mode": {
    "name": "ipython",
    "version": 3
   },
   "file_extension": ".py",
   "mimetype": "text/x-python",
   "name": "python",
   "nbconvert_exporter": "python",
   "pygments_lexer": "ipython3",
   "version": "3.9.5"
  }
 },
 "nbformat": 4,
 "nbformat_minor": 2
}
