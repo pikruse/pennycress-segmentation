{
 "cells": [
  {
   "cell_type": "code",
   "execution_count": 5,
   "metadata": {},
   "outputs": [],
   "source": [
    "# import necessary packages\n",
    "import os\n",
    "import glob\n",
    "import numpy as np\n",
    "import matplotlib.pyplot as plt\n",
    "\n",
    "from tqdm.auto import tqdm\n",
    "from ipywidgets import FloatProgress\n",
    "from PIL import Image\n",
    "from scipy import ndimage"
   ]
  },
  {
   "cell_type": "code",
   "execution_count": 17,
   "metadata": {},
   "outputs": [],
   "source": [
    "# options\n",
    "image_path = \"../pennycress_pods/train/train_images/\"\n",
    "mask_path = \"../pennycress_pods/train/train_masks/\"\n",
    "image_save_path = \"../pennycress_pods/train/train_images_by_pod/\"\n",
    "mask_save_path = \"../pennycress_pods/train/train_masks_by_pod/\"\n",
    "\n",
    "plot = False\n",
    "\n",
    "# load image data\n",
    "image_names = glob.glob(mask_path + \"*.png\")\n",
    "image_names = [os.path.basename(x) for x in image_names]"
   ]
  },
  {
   "cell_type": "code",
   "execution_count": 18,
   "metadata": {},
   "outputs": [
    {
     "name": "stdout",
     "output_type": "stream",
     "text": [
      "Processing image:  pods_late_600dpi.png\n"
     ]
    },
    {
     "data": {
      "application/vnd.jupyter.widget-view+json": {
       "model_id": "97982d1b55884305925c2f84193a8dcc",
       "version_major": 2,
       "version_minor": 0
      },
      "text/plain": [
       "  0%|          | 0/37 [00:00<?, ?it/s]"
      ]
     },
     "metadata": {},
     "output_type": "display_data"
    },
    {
     "name": "stdout",
     "output_type": "stream",
     "text": [
      "Processing image:  89.ISU386_B.B.ISU Wild.W.png\n"
     ]
    },
    {
     "data": {
      "application/vnd.jupyter.widget-view+json": {
       "model_id": "fc63f5b497d54653a70c5e554a98be27",
       "version_major": 2,
       "version_minor": 0
      },
      "text/plain": [
       "  0%|          | 0/10 [00:00<?, ?it/s]"
      ]
     },
     "metadata": {},
     "output_type": "display_data"
    },
    {
     "name": "stdout",
     "output_type": "stream",
     "text": [
      "Processing image:  46.NS1-2.B.GH 2023.W.png\n"
     ]
    },
    {
     "data": {
      "application/vnd.jupyter.widget-view+json": {
       "model_id": "ffc7620421fd4687bbfe6ae3b9cf9071",
       "version_major": 2,
       "version_minor": 0
      },
      "text/plain": [
       "  0%|          | 0/10 [00:00<?, ?it/s]"
      ]
     },
     "metadata": {},
     "output_type": "display_data"
    },
    {
     "name": "stdout",
     "output_type": "stream",
     "text": [
      "Processing image:  8.tt8t x fc6-8.G.WBP-2022.W.png\n"
     ]
    },
    {
     "data": {
      "application/vnd.jupyter.widget-view+json": {
       "model_id": "1d01628a6d31453dad9a5e136ae531db",
       "version_major": 2,
       "version_minor": 0
      },
      "text/plain": [
       "  0%|          | 0/10 [00:00<?, ?it/s]"
      ]
     },
     "metadata": {},
     "output_type": "display_data"
    },
    {
     "name": "stdout",
     "output_type": "stream",
     "text": [
      "Processing image:  44.I1-2.B.GH 2023.W.png\n"
     ]
    },
    {
     "data": {
      "application/vnd.jupyter.widget-view+json": {
       "model_id": "5be7606ce95e499390d04756b072296e",
       "version_major": 2,
       "version_minor": 0
      },
      "text/plain": [
       "  0%|          | 0/11 [00:00<?, ?it/s]"
      ]
     },
     "metadata": {},
     "output_type": "display_data"
    },
    {
     "name": "stdout",
     "output_type": "stream",
     "text": [
      "Processing image:  25.tt8t x fc5.B.WBP-2023.W.png\n"
     ]
    },
    {
     "data": {
      "application/vnd.jupyter.widget-view+json": {
       "model_id": "18c134d73bfd418298b3ec3ee96ad82e",
       "version_major": 2,
       "version_minor": 0
      },
      "text/plain": [
       "  0%|          | 0/10 [00:00<?, ?it/s]"
      ]
     },
     "metadata": {},
     "output_type": "display_data"
    },
    {
     "name": "stdout",
     "output_type": "stream",
     "text": [
      "Processing image:  33.479-single.B.field 2023.W.png\n"
     ]
    },
    {
     "data": {
      "application/vnd.jupyter.widget-view+json": {
       "model_id": "d1c7e9002b6f4706a1c8d1c4758f097c",
       "version_major": 2,
       "version_minor": 0
      },
      "text/plain": [
       "  0%|          | 0/10 [00:00<?, ?it/s]"
      ]
     },
     "metadata": {},
     "output_type": "display_data"
    },
    {
     "name": "stdout",
     "output_type": "stream",
     "text": [
      "Processing image:  pods_mid_600dpi.png\n"
     ]
    },
    {
     "data": {
      "application/vnd.jupyter.widget-view+json": {
       "model_id": "21eaea094c264dd898601bd7d347f60c",
       "version_major": 2,
       "version_minor": 0
      },
      "text/plain": [
       "  0%|          | 0/35 [00:00<?, ?it/s]"
      ]
     },
     "metadata": {},
     "output_type": "display_data"
    },
    {
     "name": "stdout",
     "output_type": "stream",
     "text": [
      "Processing image:  pods_early_600dpi.png\n"
     ]
    },
    {
     "data": {
      "application/vnd.jupyter.widget-view+json": {
       "model_id": "50245e07391a414aa8de5fa26ca22591",
       "version_major": 2,
       "version_minor": 0
      },
      "text/plain": [
       "  0%|          | 0/20 [00:00<?, ?it/s]"
      ]
     },
     "metadata": {},
     "output_type": "display_data"
    },
    {
     "name": "stdout",
     "output_type": "stream",
     "text": [
      "Image Splitting Complete!\n"
     ]
    }
   ],
   "source": [
    "\n",
    "# create empty list for bounding boxes\n",
    "bounding_boxes = []\n",
    "\n",
    "# loop through each image\n",
    "for image_name in image_names:\n",
    "\n",
    "    print(\"Processing image: \", image_name)\n",
    "\n",
    "    # load image and mask\n",
    "    image = Image.open(image_path + image_name).convert('RGB')\n",
    "    mask = Image.open(mask_path + image_name).convert('RGB')\n",
    "\n",
    "    \n",
    "\n",
    "    # convert to numpy array and normalize\n",
    "    image = np.array(image) / 255.0\n",
    "    mask_rgb = np.array(mask) / 255.0 #normalized rgb mask for saving\n",
    "    mask = np.array(mask).sum(axis=2) > 128 # convert to boolean mask\n",
    "\n",
    "    # pad image and and mask\n",
    "    image = np.pad(image, ((100, 100), (100, 100), (0, 0)), mode='edge')\n",
    "    mask = np.pad(mask, ((100, 100), (100, 100)), mode='constant')\n",
    "    mask_rgb = np.pad(mask_rgb, ((100, 100), (100, 100), (0, 0)), mode='constant')\n",
    "\n",
    "    if plot:\n",
    "        # plot image and mask for sanity\n",
    "        fig, ax = plt.subplots(1, 2, figsize=(10, 5))\n",
    "        ax[0].imshow(image)\n",
    "        ax[1].imshow(mask, cmap='gray')\n",
    "        plt.show()\n",
    "\n",
    "    # label each component in mask and create bounding boxes\n",
    "    labels = ndimage.label(mask)[0]\n",
    "    bboxes = ndimage.find_objects(labels)\n",
    "\n",
    "    # add padding to bounding boxes\n",
    "    x_pad, y_pad = 100, 100\n",
    "    for i in range(len(bboxes)):\n",
    "        x, y = bboxes[i]\n",
    "        bboxes[i] = slice(x.start-x_pad, x.stop+x_pad), slice(y.start-y_pad, y.stop+y_pad)\n",
    "\n",
    "    if plot:\n",
    "        # plot image and mask with bounding boxes\n",
    "        fig, axs = plt.subplots(1, 2, figsize=(10, 5))\n",
    "        axs[0].imshow(image)\n",
    "        axs[1].imshow(mask)\n",
    "        for bbox in bboxes:\n",
    "            y, x = bbox\n",
    "            axs[0].plot([x.start, x.start, x.stop, x.stop, x.start], [y.start, y.stop, y.stop, y.start, y.start], '--', color='r')\n",
    "            axs[1].plot([x.start, x.start, x.stop, x.stop, x.start], [y.start, y.stop, y.stop, y.start, y.start], '--', color='r')\n",
    "        plt.tight_layout()\n",
    "        plt.show()\n",
    "\n",
    "    # save split images\n",
    "    for i, bbox in enumerate(tqdm(bboxes)):\n",
    "        y, x = bbox\n",
    "        split_image = image[y, x, :]\n",
    "        split_mask = mask_rgb[y, x, :]\n",
    "\n",
    "        # convert to PIL image\n",
    "        split_image = Image.fromarray((split_image * 255).astype(np.uint8))\n",
    "        split_mask = Image.fromarray((split_mask * 255).astype(np.uint8))\n",
    "\n",
    "        # save img, msk\n",
    "        split_image.save(image_save_path + image_name[:-4] + \"_\" + str(i) + \".png\")\n",
    "        split_mask.save(mask_save_path + image_name[:-4] + \"_\" + str(i) + \".png\")\n",
    "\n",
    "print(\"Image Splitting Complete!\")"
   ]
  }
 ],
 "metadata": {
  "kernelspec": {
   "display_name": "my_env",
   "language": "python",
   "name": "python3"
  },
  "language_info": {
   "codemirror_mode": {
    "name": "ipython",
    "version": 3
   },
   "file_extension": ".py",
   "mimetype": "text/x-python",
   "name": "python",
   "nbconvert_exporter": "python",
   "pygments_lexer": "ipython3",
   "version": "3.8.10"
  },
  "orig_nbformat": 4
 },
 "nbformat": 4,
 "nbformat_minor": 2
}
