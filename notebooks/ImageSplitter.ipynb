{
 "cells": [
  {
   "cell_type": "code",
   "execution_count": 1,
   "metadata": {},
   "outputs": [],
   "source": [
    "# import necessary packages\n",
    "import os, sys\n",
    "import glob\n",
    "import numpy as np\n",
    "import matplotlib.pyplot as plt\n",
    "\n",
    "from tqdm.auto import tqdm\n",
    "from ipywidgets import FloatProgress\n",
    "from PIL import Image\n",
    "from scipy import ndimage\n",
    "from importlib import reload\n",
    "\n",
    "sys.path.append('../')\n",
    "\n",
    "import utils.Preprocessing as Preprocessing"
   ]
  },
  {
   "cell_type": "code",
   "execution_count": 2,
   "metadata": {},
   "outputs": [],
   "source": [
    "# options\n",
    "image_path = \"../data/train/train_images/\"\n",
    "mask_path = \"../data/train/train_masks_preproc/\"\n",
    "image_save_path = \"../data/train/train_images_by_pod/\"\n",
    "mask_save_path = \"../data/train/train_masks_by_pod/\"\n",
    "\n",
    "plot = False\n",
    "\n",
    "# load image data\n",
    "image_names = glob.glob(mask_path + \"*.png\")\n",
    "image_names = [os.path.basename(x) for x in image_names]"
   ]
  },
  {
   "cell_type": "code",
   "execution_count": 3,
   "metadata": {},
   "outputs": [
    {
     "name": "stdout",
     "output_type": "stream",
     "text": [
      "Processing image 16/17:  89.ISU386_B.B.ISU Wild.W.png\n"
     ]
    },
    {
     "data": {
      "application/vnd.jupyter.widget-view+json": {
       "model_id": "97e3fa723cde4df0832038e9499b6300",
       "version_major": 2,
       "version_minor": 0
      },
      "text/plain": [
       "  0%|          | 0/10 [00:00<?, ?it/s]"
      ]
     },
     "metadata": {},
     "output_type": "display_data"
    },
    {
     "name": "stdout",
     "output_type": "stream",
     "text": [
      "Image Splitting Complete!\n"
     ]
    }
   ],
   "source": [
    "# split train masks\n",
    "reload(Preprocessing)\n",
    "Preprocessing.split_image(image_names=image_names,\n",
    "                          image_path=image_path,\n",
    "                          image_save_path=image_save_path,\n",
    "                          mask_path=mask_path,\n",
    "                          mask_save_path=mask_save_path,\n",
    "                          plot=False)\n"
   ]
  }
 ],
 "metadata": {
  "kernelspec": {
   "display_name": "my_env",
   "language": "python",
   "name": "python3"
  },
  "language_info": {
   "codemirror_mode": {
    "name": "ipython",
    "version": 3
   },
   "file_extension": ".py",
   "mimetype": "text/x-python",
   "name": "python",
   "nbconvert_exporter": "python",
   "pygments_lexer": "ipython3",
   "version": "3.9.5"
  },
  "orig_nbformat": 4
 },
 "nbformat": 4,
 "nbformat_minor": 2
}
