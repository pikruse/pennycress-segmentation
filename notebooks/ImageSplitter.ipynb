{
 "cells": [
  {
   "cell_type": "code",
   "execution_count": 1,
   "metadata": {},
   "outputs": [],
   "source": [
    "# import necessary packages\n",
    "import os\n",
    "import glob\n",
    "import numpy as np\n",
    "import matplotlib.pyplot as plt\n",
    "\n",
    "from tqdm.auto import tqdm\n",
    "from ipywidgets import FloatProgress\n",
    "from PIL import Image\n",
    "from scipy import ndimage"
   ]
  },
  {
   "cell_type": "code",
   "execution_count": 2,
   "metadata": {},
   "outputs": [],
   "source": [
    "# options\n",
    "image_path = \"../pennycress_pods/train/train_images/\"\n",
    "mask_path = \"../pennycress_pods/train/train_masks_preproc/\"\n",
    "image_save_path = \"../pennycress_pods/train/train_images_by_pod/\"\n",
    "mask_save_path = \"../pennycress_pods/train/train_masks_by_pod/\"\n",
    "\n",
    "plot = False\n",
    "\n",
    "# load image data\n",
    "image_names = glob.glob(mask_path + \"*.png\")\n",
    "image_names = [os.path.basename(x) for x in image_names]"
   ]
  },
  {
   "cell_type": "code",
   "execution_count": 3,
   "metadata": {},
   "outputs": [
    {
     "name": "stdout",
     "output_type": "stream",
     "text": [
      "Processing image:  33.479-single.B.field 2023.W.png\n"
     ]
    },
    {
     "data": {
      "application/vnd.jupyter.widget-view+json": {
       "model_id": "50060d4f1072497f93abe2112856158d",
       "version_major": 2,
       "version_minor": 0
      },
      "text/plain": [
       "  0%|          | 0/10 [00:00<?, ?it/s]"
      ]
     },
     "metadata": {},
     "output_type": "display_data"
    },
    {
     "name": "stdout",
     "output_type": "stream",
     "text": [
      "Processing image:  pods_mid_600dpi.png\n"
     ]
    },
    {
     "data": {
      "application/vnd.jupyter.widget-view+json": {
       "model_id": "cbcf99d7ccc44986af95a605f24a58fd",
       "version_major": 2,
       "version_minor": 0
      },
      "text/plain": [
       "  0%|          | 0/35 [00:00<?, ?it/s]"
      ]
     },
     "metadata": {},
     "output_type": "display_data"
    },
    {
     "name": "stdout",
     "output_type": "stream",
     "text": [
      "Processing image:  pods_early_600dpi.png\n"
     ]
    },
    {
     "data": {
      "application/vnd.jupyter.widget-view+json": {
       "model_id": "47a64c777fd049288783d19303dca90e",
       "version_major": 2,
       "version_minor": 0
      },
      "text/plain": [
       "  0%|          | 0/20 [00:00<?, ?it/s]"
      ]
     },
     "metadata": {},
     "output_type": "display_data"
    },
    {
     "name": "stdout",
     "output_type": "stream",
     "text": [
      "Processing image:  25.tt8t x fc5.B.WBP-2023.W.png\n"
     ]
    },
    {
     "data": {
      "application/vnd.jupyter.widget-view+json": {
       "model_id": "d627021e56864ed9b74d6fa59fdc2fe9",
       "version_major": 2,
       "version_minor": 0
      },
      "text/plain": [
       "  0%|          | 0/10 [00:00<?, ?it/s]"
      ]
     },
     "metadata": {},
     "output_type": "display_data"
    },
    {
     "name": "stdout",
     "output_type": "stream",
     "text": [
      "Processing image:  8.tt8t x fc6-8.G.WBP-2022.W.png\n"
     ]
    },
    {
     "data": {
      "application/vnd.jupyter.widget-view+json": {
       "model_id": "3857f716dc6144799c1ded803ca4b5cf",
       "version_major": 2,
       "version_minor": 0
      },
      "text/plain": [
       "  0%|          | 0/10 [00:00<?, ?it/s]"
      ]
     },
     "metadata": {},
     "output_type": "display_data"
    },
    {
     "name": "stdout",
     "output_type": "stream",
     "text": [
      "Processing image:  44.I1-2.B.GH 2023.W.png\n"
     ]
    },
    {
     "data": {
      "application/vnd.jupyter.widget-view+json": {
       "model_id": "86c04b391b704156bd1b4f4260e5e169",
       "version_major": 2,
       "version_minor": 0
      },
      "text/plain": [
       "  0%|          | 0/11 [00:00<?, ?it/s]"
      ]
     },
     "metadata": {},
     "output_type": "display_data"
    },
    {
     "name": "stdout",
     "output_type": "stream",
     "text": [
      "Processing image:  46.NS1-2.B.GH 2023.W.png\n"
     ]
    },
    {
     "data": {
      "application/vnd.jupyter.widget-view+json": {
       "model_id": "6580f4f88ce74ee6b2124816428a8e62",
       "version_major": 2,
       "version_minor": 0
      },
      "text/plain": [
       "  0%|          | 0/10 [00:00<?, ?it/s]"
      ]
     },
     "metadata": {},
     "output_type": "display_data"
    },
    {
     "name": "stdout",
     "output_type": "stream",
     "text": [
      "Processing image:  89.ISU386_B.B.ISU Wild.W.png\n"
     ]
    },
    {
     "data": {
      "application/vnd.jupyter.widget-view+json": {
       "model_id": "de4d52825f9242309eb07cec3140503e",
       "version_major": 2,
       "version_minor": 0
      },
      "text/plain": [
       "  0%|          | 0/10 [00:00<?, ?it/s]"
      ]
     },
     "metadata": {},
     "output_type": "display_data"
    },
    {
     "name": "stdout",
     "output_type": "stream",
     "text": [
      "Image Splitting Complete!\n"
     ]
    }
   ],
   "source": [
    "\n",
    "# create empty list for bounding boxes\n",
    "bounding_boxes = []\n",
    "\n",
    "# loop through each image\n",
    "for image_name in image_names:\n",
    "\n",
    "    print(\"Processing image: \", image_name)\n",
    "\n",
    "    # load image and mask\n",
    "    image = Image.open(image_path + image_name).convert('RGB')\n",
    "    mask = Image.open(mask_path + image_name).convert('RGB')\n",
    "\n",
    "    \n",
    "\n",
    "    # convert to numpy array and normalize\n",
    "    image = np.array(image) / 255.0\n",
    "    mask_rgb = np.array(mask) / 255.0 #normalized rgb mask for saving\n",
    "    mask = np.array(mask).sum(axis=2) > 128 # convert to boolean mask\n",
    "\n",
    "    # pad image and and mask\n",
    "    image = np.pad(image, ((100, 100), (100, 100), (0, 0)), mode='edge')\n",
    "    mask = np.pad(mask, ((100, 100), (100, 100)), mode='constant')\n",
    "    mask_rgb = np.pad(mask_rgb, ((100, 100), (100, 100), (0, 0)), mode='constant')\n",
    "\n",
    "    if plot:\n",
    "        # plot image and mask for sanity\n",
    "        fig, ax = plt.subplots(1, 2, figsize=(10, 5))\n",
    "        ax[0].imshow(image)\n",
    "        ax[1].imshow(mask, cmap='gray')\n",
    "        plt.show()\n",
    "\n",
    "    # label each component in mask and create bounding boxes\n",
    "    labels = ndimage.label(mask)[0]\n",
    "    bboxes = ndimage.find_objects(labels)\n",
    "\n",
    "    # add padding to bounding boxes\n",
    "    x_pad, y_pad = 100, 100\n",
    "    for i in range(len(bboxes)):\n",
    "        x, y = bboxes[i]\n",
    "        bboxes[i] = slice(x.start-x_pad, x.stop+x_pad), slice(y.start-y_pad, y.stop+y_pad)\n",
    "\n",
    "    if plot:\n",
    "        # plot image and mask with bounding boxes\n",
    "        fig, axs = plt.subplots(1, 2, figsize=(10, 5))\n",
    "        axs[0].imshow(image)\n",
    "        axs[1].imshow(mask)\n",
    "        for bbox in bboxes:\n",
    "            y, x = bbox\n",
    "            axs[0].plot([x.start, x.start, x.stop, x.stop, x.start], [y.start, y.stop, y.stop, y.start, y.start], '--', color='r')\n",
    "            axs[1].plot([x.start, x.start, x.stop, x.stop, x.start], [y.start, y.stop, y.stop, y.start, y.start], '--', color='r')\n",
    "        plt.tight_layout()\n",
    "        plt.show()\n",
    "\n",
    "    # save split images\n",
    "    for i, bbox in enumerate(tqdm(bboxes)):\n",
    "        y, x = bbox\n",
    "        split_image = image[y, x, :]\n",
    "        split_mask = mask_rgb[y, x, :]\n",
    "\n",
    "        # convert to PIL image\n",
    "        split_image = Image.fromarray((split_image * 255).astype(np.uint8))\n",
    "        split_mask = Image.fromarray((split_mask * 255).astype(np.uint8))\n",
    "\n",
    "        # save img, msk\n",
    "        split_image.save(image_save_path + image_name[:-4] + \"_\" + str(i) + \".png\")\n",
    "        split_mask.save(mask_save_path + image_name[:-4] + \"_\" + str(i) + \".png\")\n",
    "\n",
    "print(\"Image Splitting Complete!\")"
   ]
  }
 ],
 "metadata": {
  "kernelspec": {
   "display_name": "my_env",
   "language": "python",
   "name": "python3"
  },
  "language_info": {
   "codemirror_mode": {
    "name": "ipython",
    "version": 3
   },
   "file_extension": ".py",
   "mimetype": "text/x-python",
   "name": "python",
   "nbconvert_exporter": "python",
   "pygments_lexer": "ipython3",
   "version": "3.8.10"
  },
  "orig_nbformat": 4
 },
 "nbformat": 4,
 "nbformat_minor": 2
}
