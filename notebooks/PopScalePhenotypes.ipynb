{
 "cells": [
  {
   "cell_type": "code",
   "execution_count": 1,
   "metadata": {},
   "outputs": [
    {
     "name": "stderr",
     "output_type": "stream",
     "text": [
      "/mnt/DGX01/Personal/krusepi/.venv/lib/python3.9/site-packages/albumentations/__init__.py:13: UserWarning: A new version of Albumentations is available: 1.4.15 (you have 1.4.14). Upgrade using: pip install -U albumentations. To disable automatic update checks, set the environment variable NO_ALBUMENTATIONS_UPDATE to 1.\n",
      "  check_for_updates()\n"
     ]
    }
   ],
   "source": [
    "# import necessary packages\n",
    "import os, glob, sys\n",
    "import numpy as np\n",
    "import matplotlib.pyplot as plt\n",
    "import pandas as pd\n",
    "import torch\n",
    "import cv2\n",
    "import re\n",
    "\n",
    "from tqdm.auto import tqdm\n",
    "from ipywidgets import FloatProgress\n",
    "from scipy import ndimage\n",
    "from PIL import Image\n",
    "from importlib import reload\n",
    "\n",
    "# append path\n",
    "sys.path.append('../')\n",
    "\n",
    "# custom\n",
    "from utils.BuildUNet import UNet\n",
    "from utils.GetLowestGPU import GetLowestGPU\n",
    "from utils.TileGenerator import TileGenerator\n",
    "from utils.Metrics import iou\n",
    "from utils.GetFileNames import get_file_names\n",
    "import utils.Traits as Traits\n",
    "import utils.SegmentImage as SegmentImage\n",
    "import utils.Measure as Measure"
   ]
  },
  {
   "cell_type": "code",
   "execution_count": 2,
   "metadata": {},
   "outputs": [],
   "source": [
    "# get one example and extract all phenotypes\n",
    "\n",
    "# paths\n",
    "image_path = \"../data/test/test_images_by_pod/\"\n",
    "mask_path = \"../data/test/test_masks_by_pod/\"\n",
    "\n",
    "image_names = get_file_names(image_path, extension=\".png\")\n",
    "mask_names = get_file_names(mask_path, extension=\".png\")\n"
   ]
  },
  {
   "cell_type": "code",
   "execution_count": 3,
   "metadata": {},
   "outputs": [
    {
     "name": "stdout",
     "output_type": "stream",
     "text": [
      "['1.tt8t x fc6-1.B.WBP-2022.W_0.png', '1.tt8t x fc6-1.B.WBP-2022.W_1.png', '1.tt8t x fc6-1.B.WBP-2022.W_2.png', '1.tt8t x fc6-1.B.WBP-2022.W_3.png', '1.tt8t x fc6-1.B.WBP-2022.W_4.png', '1.tt8t x fc6-1.B.WBP-2022.W_5.png', '1.tt8t x fc6-1.B.WBP-2022.W_6.png', '1.tt8t x fc6-1.B.WBP-2022.W_7.png', '1.tt8t x fc6-1.B.WBP-2022.W_8.png', '1.tt8t x fc6-1.B.WBP-2022.W_9.png']\n"
     ]
    }
   ],
   "source": [
    "print(image_names[:10])"
   ]
  },
  {
   "cell_type": "code",
   "execution_count": 4,
   "metadata": {},
   "outputs": [
    {
     "name": "stdout",
     "output_type": "stream",
     "text": [
      "['1.tt8t x fc6-1.B.WBP-2022.W_0.png', '1.tt8t x fc6-1.B.WBP-2022.W_1.png', '1.tt8t x fc6-1.B.WBP-2022.W_2.png', '1.tt8t x fc6-1.B.WBP-2022.W_3.png', '1.tt8t x fc6-1.B.WBP-2022.W_4.png', '1.tt8t x fc6-1.B.WBP-2022.W_5.png', '1.tt8t x fc6-1.B.WBP-2022.W_6.png', '1.tt8t x fc6-1.B.WBP-2022.W_7.png', '1.tt8t x fc6-1.B.WBP-2022.W_8.png', '1.tt8t x fc6-1.B.WBP-2022.W_9.png']\n"
     ]
    }
   ],
   "source": [
    "print(mask_names[:10])"
   ]
  },
  {
   "cell_type": "code",
   "execution_count": 5,
   "metadata": {},
   "outputs": [],
   "source": [
    "# load example image\n",
    "test_img = np.array(Image.open(image_path + image_names[0]))\n",
    "test_mask = np.array(Image.open(mask_path + mask_names[0]))"
   ]
  },
  {
   "cell_type": "code",
   "execution_count": 6,
   "metadata": {},
   "outputs": [],
   "source": [
    "# make list of all phenotypes to collect\n",
    "phenotypes = {'seed_count':[], \n",
    "              \n",
    "            # areas\n",
    "            'seed_area':[],\n",
    "            'env_area':[],\n",
    "            'wing_area':[],\n",
    "\n",
    "            # perimeters\n",
    "            'seed_perimeter':[],\n",
    "            'env_perimeter':[],\n",
    "            'wing_perimeter':[],\n",
    "\n",
    "            # ...-to-total_area ratios\n",
    "            'seed_to_total_area':[],\n",
    "            'env_to_total_area':[],\n",
    "            'wing_to_total_area':[],\n",
    "\n",
    "            # ...-to-total_perimeter ratios\n",
    "            'seed_to_total_perimeter':[],\n",
    "            'env_to_total_perimeter':[],\n",
    "            'wing_to_total_perimeter':[],\n",
    "\n",
    "            # ...-to-seed ratios\n",
    "            'env_to_seed_area':[],\n",
    "            'wing_to_seed_area':[],\n",
    "            'env_to_seed_perimeter':[],\n",
    "            'wing_to_seed_perimeter':[],\n",
    "\n",
    "            # ...-to-env ratios\n",
    "            'wing_to_env_area':[],\n",
    "            'seed_to_env_area':[],\n",
    "            'wing_to_env_perimeter':[],\n",
    "            'seed_to_env_perimeter':[],\n",
    "\n",
    "            # ...-to-wing ratios\n",
    "            'seed_to_wing_area':[],\n",
    "            'env_to_wing_area':[],\n",
    "            'seed_to_wing_perimeter':[],\n",
    "            'env_to_wing_perimeter':[],\n",
    "                \n",
    "            # color\n",
    "            'wing_r': [],\n",
    "            'wing_g': [],\n",
    "            'wing_b': [],\n",
    "            'wing_h': [],\n",
    "            'wing_s': [],\n",
    "            'wing_v': [],\n",
    "            'wing_l': [],\n",
    "            'wing_a': [], \n",
    "            'wing_B': [],\n",
    "\n",
    "            'env_r': [],\n",
    "            'env_g': [],\n",
    "            'env_b': [],\n",
    "            'env_h': [],\n",
    "            'env_s': [],\n",
    "            'env_v': [],\n",
    "            'env_l': [],\n",
    "            'env_a': [],\n",
    "            'env_B': [],\n",
    "\n",
    "            'seed_r': [],\n",
    "            'seed_g': [],\n",
    "            'seed_b': [],\n",
    "            'seed_h': [],\n",
    "            'seed_s': [],\n",
    "            'seed_v': [],\n",
    "            'seed_l': [],\n",
    "            'seed_a': [],\n",
    "            'seed_B': []\n",
    "}"
   ]
  },
  {
   "cell_type": "code",
   "execution_count": 7,
   "metadata": {},
   "outputs": [],
   "source": [
    "# get areas\n",
    "wing_area = Traits.area_calc(test_mask[:, :, 0])\n",
    "env_area = Traits.area_calc(test_mask[:, :, 1:2])\n",
    "seed_area = Traits.area_calc(test_mask[:, :, 2])\n",
    "\n",
    "# add to dict\n",
    "phenotypes['wing_area'].append(wing_area)\n",
    "phenotypes['env_area'].append(env_area)\n",
    "phenotypes['seed_area'].append(seed_area)"
   ]
  },
  {
   "cell_type": "code",
   "execution_count": 9,
   "metadata": {},
   "outputs": [],
   "source": [
    "# get perimeters\n",
    "wing_p = Traits.perimeter(test_mask)\n",
    "env_p = Traits.perimeter(test_mask)\n",
    "seed_p = Traits.perimeter(test_mask)\n",
    "\n",
    "# add to dict\n",
    "phenotypes['wing_perimeter'].append(wing_p)\n",
    "phenotypes['env_perimeter'].append(env_p)\n",
    "phenotypes['seed_perimeter'].append(seed_p)\n"
   ]
  }
 ],
 "metadata": {
  "kernelspec": {
   "display_name": ".venv",
   "language": "python",
   "name": "python3"
  },
  "language_info": {
   "codemirror_mode": {
    "name": "ipython",
    "version": 3
   },
   "file_extension": ".py",
   "mimetype": "text/x-python",
   "name": "python",
   "nbconvert_exporter": "python",
   "pygments_lexer": "ipython3",
   "version": "3.9.5"
  }
 },
 "nbformat": 4,
 "nbformat_minor": 2
}
