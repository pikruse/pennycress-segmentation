{
 "cells": [
  {
   "cell_type": "code",
   "execution_count": 1,
   "metadata": {},
   "outputs": [
    {
     "name": "stderr",
     "output_type": "stream",
     "text": [
      "/mnt/DGX01/Personal/krusepi/.venv/lib/python3.9/site-packages/albumentations/__init__.py:13: UserWarning: A new version of Albumentations is available: 1.4.18 (you have 1.4.16). Upgrade using: pip install -U albumentations. To disable automatic update checks, set the environment variable NO_ALBUMENTATIONS_UPDATE to 1.\n",
      "  check_for_updates()\n"
     ]
    }
   ],
   "source": [
    "# import necessary libraries\n",
    "import os, glob, sys\n",
    "import numpy as np\n",
    "import matplotlib.pyplot as plt\n",
    "import pandas as pd\n",
    "import cv2\n",
    "import multiprocessing as mp\n",
    "\n",
    "from tqdm.auto import tqdm\n",
    "from ipywidgets import FloatProgress\n",
    "from scipy import ndimage\n",
    "from PIL import Image\n",
    "from importlib import reload\n",
    "from functools import partial\n",
    "\n",
    "# append path\n",
    "sys.path.append('../')\n",
    "\n",
    "# custom\n",
    "from utils.Metrics import iou\n",
    "from utils.Traits import area_calc\n",
    "from utils.GetFileNames import get_file_names\n",
    "import utils.SegmentImage as SegmentImage\n",
    "import utils.Measure as Measure\n",
    "import utils.Preprocessing as Preprocessing\n"
   ]
  },
  {
   "cell_type": "code",
   "execution_count": 2,
   "metadata": {},
   "outputs": [],
   "source": [
    "# directories\n",
    "seg_path = '../data/pop_scale/pop_scale_segmentations/'\n",
    "in_path = '../data/test/test_images/'\n",
    "postproc_path = '../data/pop_scale/pop_scale_segmentations_postproc/'\n",
    "out_path = '../data/pop_scale/pop_scale_segmentations_by_pod/'\n",
    "save_path = '../data/pop_scale/pop_scale_segmentations_measurements/'\n",
    "\n",
    "# get file names\n",
    "seg_names = get_file_names(seg_path, '.png')"
   ]
  },
  {
   "cell_type": "code",
   "execution_count": 3,
   "metadata": {},
   "outputs": [],
   "source": [
    "def postprocess_multi(seg_img, out_path):\n",
    "    # get image\n",
    "    seg = np.array(Image.open('../data/pop_scale/pop_scale_segmentations/' + seg_img)) / 255\n",
    "\n",
    "    # remove artifacts\n",
    "    post_seg = Preprocessing.remove_artifacts(seg)\n",
    "\n",
    "    # convert to \n",
    "    post_seg = Image.fromarray((post_seg * 255).astype(np.uint8))\n",
    "    post_seg.save(postproc_path + seg_img)"
   ]
  },
  {
   "cell_type": "code",
   "execution_count": 4,
   "metadata": {},
   "outputs": [
    {
     "data": {
      "application/vnd.jupyter.widget-view+json": {
       "model_id": "f9ed0ef62bad4fffb16ab77b44e2fc0d",
       "version_major": 2,
       "version_minor": 0
      },
      "text/plain": [
       "  0%|          | 0/767 [00:00<?, ?it/s]"
      ]
     },
     "metadata": {},
     "output_type": "display_data"
    }
   ],
   "source": [
    "with mp.Pool(mp.cpu_count()) as pool:\n",
    "        r = tqdm(pool.imap(partial(postprocess_multi, out_path=out_path), seg_names),\n",
    "                total = len(seg_names))\n",
    "        for _ in r:\n",
    "                pass"
   ]
  },
  {
   "cell_type": "code",
   "execution_count": 8,
   "metadata": {},
   "outputs": [
    {
     "name": "stdout",
     "output_type": "stream",
     "text": [
      "Measuring Pods...\n"
     ]
    },
    {
     "data": {
      "application/vnd.jupyter.widget-view+json": {
       "model_id": "9a214ea6ae164268a6fa65e1ad18d0c8",
       "version_major": 2,
       "version_minor": 0
      },
      "text/plain": [
       "  0%|          | 0/767 [00:00<?, ?it/s]"
      ]
     },
     "metadata": {},
     "output_type": "display_data"
    },
    {
     "ename": "IndexError",
     "evalue": "boolean index did not match indexed array along dimension 0; dimension is 477 but corresponding boolean dimension is 517",
     "output_type": "error",
     "traceback": [
      "\u001b[0;31m---------------------------------------------------------------------------\u001b[0m",
      "\u001b[0;31mRemoteTraceback\u001b[0m                           Traceback (most recent call last)",
      "\u001b[0;31mRemoteTraceback\u001b[0m: \n\"\"\"\nTraceback (most recent call last):\n  File \"/mnt/DGX01/Personal/krusepi/.venv/lib/python3.9/site-packages/multiprocess/pool.py\", line 125, in worker\n    result = (True, func(*args, **kwds))\n  File \"/mnt/DGX01/Personal/krusepi/codebase/projects/phenotyping/PennycressUNet/notebooks/../utils/Measure.py\", line 140, in measure_func\n    wing_color, env_color, seed_color = Traits.get_color_features(split_input, split_image)\n  File \"/mnt/DGX01/Personal/krusepi/codebase/projects/phenotyping/PennycressUNet/notebooks/../utils/Traits.py\", line 66, in get_color_features\n    # get features by class\nIndexError: boolean index did not match indexed array along dimension 0; dimension is 477 but corresponding boolean dimension is 517\n\"\"\"",
      "\nThe above exception was the direct cause of the following exception:\n",
      "\u001b[0;31mIndexError\u001b[0m                                Traceback (most recent call last)",
      "Cell \u001b[0;32mIn[8], line 2\u001b[0m\n\u001b[1;32m      1\u001b[0m reload(Measure)\n\u001b[0;32m----> 2\u001b[0m \u001b[43mMeasure\u001b[49m\u001b[38;5;241;43m.\u001b[39;49m\u001b[43mmeasure_pods\u001b[49m\u001b[43m(\u001b[49m\u001b[43mpred_path\u001b[49m\u001b[43m \u001b[49m\u001b[38;5;241;43m=\u001b[39;49m\u001b[43m \u001b[49m\u001b[43mpostproc_path\u001b[49m\u001b[43m,\u001b[49m\n\u001b[1;32m      3\u001b[0m \u001b[43m                     \u001b[49m\u001b[43minput_path\u001b[49m\u001b[43m \u001b[49m\u001b[38;5;241;43m=\u001b[39;49m\u001b[43m \u001b[49m\u001b[43min_path\u001b[49m\u001b[43m,\u001b[49m\n\u001b[1;32m      4\u001b[0m \u001b[43m                     \u001b[49m\u001b[43mpod_save_path\u001b[49m\u001b[43m \u001b[49m\u001b[38;5;241;43m=\u001b[39;49m\u001b[43m \u001b[49m\u001b[43mout_path\u001b[49m\u001b[43m,\u001b[49m\n\u001b[1;32m      5\u001b[0m \u001b[43m                     \u001b[49m\u001b[43mmeasurement_save_path\u001b[49m\u001b[43m \u001b[49m\u001b[38;5;241;43m=\u001b[39;49m\u001b[43m \u001b[49m\u001b[43msave_path\u001b[49m\u001b[43m,\u001b[49m\n\u001b[1;32m      6\u001b[0m \u001b[43m                     \u001b[49m\u001b[43mimage_names\u001b[49m\u001b[43m \u001b[49m\u001b[38;5;241;43m=\u001b[39;49m\u001b[43m \u001b[49m\u001b[43mseg_names\u001b[49m\u001b[43m,\u001b[49m\n\u001b[1;32m      7\u001b[0m \u001b[43m                     \u001b[49m\u001b[43mplot\u001b[49m\u001b[38;5;241;43m=\u001b[39;49m\u001b[38;5;28;43;01mFalse\u001b[39;49;00m\u001b[43m,\u001b[49m\n\u001b[1;32m      8\u001b[0m \u001b[43m                     \u001b[49m\u001b[43mverbose\u001b[49m\u001b[38;5;241;43m=\u001b[39;49m\u001b[38;5;28;43;01mFalse\u001b[39;49;00m\u001b[43m)\u001b[49m\n",
      "File \u001b[0;32m/mnt/DGX01/Personal/krusepi/codebase/projects/phenotyping/PennycressUNet/notebooks/../utils/Measure.py:314\u001b[0m, in \u001b[0;36mmeasure_pods\u001b[0;34m(pred_path, input_path, pod_save_path, measurement_save_path, image_names, verbose, plot)\u001b[0m\n\u001b[1;32m    311\u001b[0m \u001b[38;5;28;01mwith\u001b[39;00m mp\u001b[38;5;241m.\u001b[39mPool(mp\u001b[38;5;241m.\u001b[39mcpu_count()) \u001b[38;5;28;01mas\u001b[39;00m pool:\n\u001b[1;32m    312\u001b[0m     result \u001b[38;5;241m=\u001b[39m tqdm(pool\u001b[38;5;241m.\u001b[39mimap(measure_func, image_names),\n\u001b[1;32m    313\u001b[0m             total \u001b[38;5;241m=\u001b[39m \u001b[38;5;28mlen\u001b[39m(image_names))\n\u001b[0;32m--> 314\u001b[0m     \u001b[38;5;28;01mfor\u001b[39;00m r \u001b[38;5;129;01min\u001b[39;00m result:\n\u001b[1;32m    315\u001b[0m            measurements\u001b[38;5;241m.\u001b[39mextend(r)\n\u001b[1;32m    317\u001b[0m \u001b[38;5;66;03m# save seed counts to csv\u001b[39;00m\n",
      "File \u001b[0;32m/mnt/DGX01/Personal/krusepi/.venv/lib/python3.9/site-packages/tqdm/notebook.py:250\u001b[0m, in \u001b[0;36mtqdm_notebook.__iter__\u001b[0;34m(self)\u001b[0m\n\u001b[1;32m    248\u001b[0m \u001b[38;5;28;01mtry\u001b[39;00m:\n\u001b[1;32m    249\u001b[0m     it \u001b[38;5;241m=\u001b[39m \u001b[38;5;28msuper\u001b[39m()\u001b[38;5;241m.\u001b[39m\u001b[38;5;21m__iter__\u001b[39m()\n\u001b[0;32m--> 250\u001b[0m     \u001b[38;5;28;01mfor\u001b[39;00m obj \u001b[38;5;129;01min\u001b[39;00m it:\n\u001b[1;32m    251\u001b[0m         \u001b[38;5;66;03m# return super(tqdm...) will not catch exception\u001b[39;00m\n\u001b[1;32m    252\u001b[0m         \u001b[38;5;28;01myield\u001b[39;00m obj\n\u001b[1;32m    253\u001b[0m \u001b[38;5;66;03m# NB: except ... [ as ...] breaks IPython async KeyboardInterrupt\u001b[39;00m\n",
      "File \u001b[0;32m/mnt/DGX01/Personal/krusepi/.venv/lib/python3.9/site-packages/tqdm/std.py:1181\u001b[0m, in \u001b[0;36mtqdm.__iter__\u001b[0;34m(self)\u001b[0m\n\u001b[1;32m   1178\u001b[0m time \u001b[38;5;241m=\u001b[39m \u001b[38;5;28mself\u001b[39m\u001b[38;5;241m.\u001b[39m_time\n\u001b[1;32m   1180\u001b[0m \u001b[38;5;28;01mtry\u001b[39;00m:\n\u001b[0;32m-> 1181\u001b[0m     \u001b[38;5;28;01mfor\u001b[39;00m obj \u001b[38;5;129;01min\u001b[39;00m iterable:\n\u001b[1;32m   1182\u001b[0m         \u001b[38;5;28;01myield\u001b[39;00m obj\n\u001b[1;32m   1183\u001b[0m         \u001b[38;5;66;03m# Update and possibly print the progressbar.\u001b[39;00m\n\u001b[1;32m   1184\u001b[0m         \u001b[38;5;66;03m# Note: does not call self.update(1) for speed optimisation.\u001b[39;00m\n",
      "File \u001b[0;32m/mnt/DGX01/Personal/krusepi/.venv/lib/python3.9/site-packages/multiprocess/pool.py:870\u001b[0m, in \u001b[0;36mIMapIterator.next\u001b[0;34m(self, timeout)\u001b[0m\n\u001b[1;32m    868\u001b[0m \u001b[38;5;28;01mif\u001b[39;00m success:\n\u001b[1;32m    869\u001b[0m     \u001b[38;5;28;01mreturn\u001b[39;00m value\n\u001b[0;32m--> 870\u001b[0m \u001b[38;5;28;01mraise\u001b[39;00m value\n",
      "\u001b[0;31mIndexError\u001b[0m: boolean index did not match indexed array along dimension 0; dimension is 477 but corresponding boolean dimension is 517"
     ]
    }
   ],
   "source": [
    "reload(Measure)\n",
    "Measure.measure_pods(pred_path = postproc_path,\n",
    "                     input_path = in_path,\n",
    "                     pod_save_path = out_path,\n",
    "                     measurement_save_path = save_path,\n",
    "                     image_names = seg_names,\n",
    "                     plot=False,\n",
    "                     verbose=False)"
   ]
  },
  {
   "cell_type": "code",
   "execution_count": null,
   "metadata": {},
   "outputs": [],
   "source": []
  }
 ],
 "metadata": {
  "kernelspec": {
   "display_name": ".venv",
   "language": "python",
   "name": "python3"
  },
  "language_info": {
   "codemirror_mode": {
    "name": "ipython",
    "version": 3
   },
   "file_extension": ".py",
   "mimetype": "text/x-python",
   "name": "python",
   "nbconvert_exporter": "python",
   "pygments_lexer": "ipython3",
   "version": "3.9.5"
  }
 },
 "nbformat": 4,
 "nbformat_minor": 2
}
