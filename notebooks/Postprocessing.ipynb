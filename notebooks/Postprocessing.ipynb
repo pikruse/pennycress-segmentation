{
 "cells": [
  {
   "cell_type": "code",
   "execution_count": 1,
   "metadata": {},
   "outputs": [],
   "source": [
    "# import necessary libraries\n",
    "import os, glob, sys\n",
    "import numpy as np\n",
    "import matplotlib.pyplot as plt\n",
    "import pandas as pd\n",
    "import cv2\n",
    "import multiprocessing as mp\n",
    "\n",
    "from tqdm.auto import tqdm\n",
    "from ipywidgets import FloatProgress\n",
    "from scipy import ndimage\n",
    "from PIL import Image\n",
    "from importlib import reload\n",
    "from functools import partial\n",
    "\n",
    "# append path\n",
    "sys.path.append('../')\n",
    "\n",
    "# custom\n",
    "from utils.Metrics import iou\n",
    "from utils.AreaCalc import area_calc\n",
    "from utils.GetFileNames import get_file_names\n",
    "import utils.SegmentImage as SegmentImage\n",
    "import utils.Measure as Measure\n",
    "import utils.Preprocessing as Preprocessing\n"
   ]
  },
  {
   "cell_type": "code",
   "execution_count": 2,
   "metadata": {},
   "outputs": [],
   "source": [
    "# directories\n",
    "seg_path = '../data/pop_scale/pop_scale_segmentations/'\n",
    "postproc_path = '../data/pop_scale/pop_scale_segmentations_postproc/'\n",
    "out_path = '../data/pop_scale/pop_scale_segmentations_by_pod/'\n",
    "save_path = '../data/pop_scale/pop_scale_segmentations_measurements/'\n",
    "\n",
    "# get file names\n",
    "seg_names = get_file_names(seg_path, '.png')"
   ]
  },
  {
   "cell_type": "code",
   "execution_count": 3,
   "metadata": {},
   "outputs": [],
   "source": [
    "def postprocess_multi(seg_img, out_path):\n",
    "    # get image\n",
    "    seg = np.array(Image.open('../data/pop_scale/pop_scale_segmentations/' + seg_img)) / 255\n",
    "\n",
    "    # remove artifacts\n",
    "    post_seg = Preprocessing.remove_artifacts(seg)\n",
    "\n",
    "    # convert to \n",
    "    post_seg = Image.fromarray((post_seg * 255).astype(np.uint8))\n",
    "    post_seg.save(postproc_path + seg_img)"
   ]
  },
  {
   "cell_type": "code",
   "execution_count": 4,
   "metadata": {},
   "outputs": [
    {
     "data": {
      "application/vnd.jupyter.widget-view+json": {
       "model_id": "143589fb6ad8462dbc710ee2c8223fdb",
       "version_major": 2,
       "version_minor": 0
      },
      "text/plain": [
       "  0%|          | 0/767 [00:00<?, ?it/s]"
      ]
     },
     "metadata": {},
     "output_type": "display_data"
    }
   ],
   "source": [
    "with mp.Pool(mp.cpu_count()) as pool:\n",
    "        r = tqdm(pool.imap(partial(postprocess_multi, out_path=out_path), seg_names),\n",
    "                total = len(seg_names))\n",
    "        for _ in r:\n",
    "                pass"
   ]
  },
  {
   "cell_type": "code",
   "execution_count": 9,
   "metadata": {},
   "outputs": [
    {
     "data": {
      "application/vnd.jupyter.widget-view+json": {
       "model_id": "40048bb8d6674ed89829b4a5dc98b29f",
       "version_major": 2,
       "version_minor": 0
      },
      "text/plain": [
       "  0%|          | 0/767 [00:00<?, ?it/s]"
      ]
     },
     "metadata": {},
     "output_type": "display_data"
    },
    {
     "name": "stdout",
     "output_type": "stream",
     "text": [
      "12252\n"
     ]
    }
   ],
   "source": [
    "reload(Measure)\n",
    "Measure.measure_pods(pred_path = seg_path,\n",
    "                pod_save_path = out_path,\n",
    "                measurement_save_path = save_path,\n",
    "                image_names = seg_names,\n",
    "                plot=False,\n",
    "                verbose=False)"
   ]
  }
 ],
 "metadata": {
  "kernelspec": {
   "display_name": ".venv",
   "language": "python",
   "name": "python3"
  },
  "language_info": {
   "codemirror_mode": {
    "name": "ipython",
    "version": 3
   },
   "file_extension": ".py",
   "mimetype": "text/x-python",
   "name": "python",
   "nbconvert_exporter": "python",
   "pygments_lexer": "ipython3",
   "version": "3.9.5"
  }
 },
 "nbformat": 4,
 "nbformat_minor": 2
}
