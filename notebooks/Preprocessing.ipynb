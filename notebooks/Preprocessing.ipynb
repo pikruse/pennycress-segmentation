{
 "cells": [
  {
   "cell_type": "code",
   "execution_count": 1,
   "metadata": {},
   "outputs": [],
   "source": [
    "# import necessary packages\n",
    "import os, glob, sys\n",
    "import numpy as np\n",
    "import matplotlib.pyplot as plt\n",
    "import pandas as pd\n",
    "import torch\n",
    "import cv2\n",
    "\n",
    "from tqdm.auto import tqdm\n",
    "from ipywidgets import FloatProgress\n",
    "from scipy import ndimage\n",
    "from PIL import Image\n",
    "from importlib import reload\n",
    "\n",
    "sys.path.append('../')\n",
    "\n",
    "# custom imports\n",
    "import utils.Preprocessing as Preprocessing"
   ]
  },
  {
   "cell_type": "code",
   "execution_count": 5,
   "metadata": {},
   "outputs": [],
   "source": [
    "# options\n",
    "train_mask_path = '../data/train/train_masks_by_pod/'\n",
    "test_mask_path = '../data/test/test_masks_by_pod/'\n",
    "\n",
    "train_save_path = '../data/train/train_masks_by_pod/'\n",
    "test_save_path = '../data/test/test_masks_by_pod/'\n",
    "\n",
    "plot = False\n",
    "verbose = False\n",
    "\n",
    "# load image data\n",
    "train_names = glob.glob(train_mask_path + \"*.png\")\n",
    "train_names = [os.path.basename(x) for x in train_names]\n",
    "\n",
    "test_names = glob.glob(test_mask_path + \"*.png\")\n",
    "test_names = [os.path.basename(x) for x in test_names]"
   ]
  },
  {
   "cell_type": "code",
   "execution_count": 6,
   "metadata": {},
   "outputs": [
    {
     "data": {
      "application/vnd.jupyter.widget-view+json": {
       "model_id": "fdb714f17e7a4662834a67514bf16a29",
       "version_major": 2,
       "version_minor": 0
      },
      "text/plain": [
       "  0%|          | 0/64 [00:00<?, ?it/s]"
      ]
     },
     "metadata": {},
     "output_type": "display_data"
    }
   ],
   "source": [
    "# preprocess test masks\n",
    "reload(Preprocessing)\n",
    "Preprocessing.mask_preprocessing(test_mask_path, test_names, test_save_path,\n",
    "                                 verbose=False, plot = False)"
   ]
  },
  {
   "cell_type": "code",
   "execution_count": 4,
   "metadata": {},
   "outputs": [
    {
     "data": {
      "application/vnd.jupyter.widget-view+json": {
       "model_id": "420fb3b46d054f768fb25d59e46b872a",
       "version_major": 2,
       "version_minor": 0
      },
      "text/plain": [
       "  0%|          | 0/281 [00:00<?, ?it/s]"
      ]
     },
     "metadata": {},
     "output_type": "display_data"
    }
   ],
   "source": [
    "# preprocess train masks\n",
    "reload(Preprocessing)\n",
    "Preprocessing.mask_preprocessing(train_mask_path, train_names, train_save_path,\n",
    "                                 verbose=False, plot = False)"
   ]
  }
 ],
 "metadata": {
  "kernelspec": {
   "display_name": ".venv",
   "language": "python",
   "name": "python3"
  },
  "language_info": {
   "codemirror_mode": {
    "name": "ipython",
    "version": 3
   },
   "file_extension": ".py",
   "mimetype": "text/x-python",
   "name": "python",
   "nbconvert_exporter": "python",
   "pygments_lexer": "ipython3",
   "version": "3.9.5"
  }
 },
 "nbformat": 4,
 "nbformat_minor": 2
}
