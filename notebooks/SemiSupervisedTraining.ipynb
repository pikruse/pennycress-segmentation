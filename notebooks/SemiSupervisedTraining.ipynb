{
 "cells": [
  {
   "cell_type": "code",
   "execution_count": null,
   "metadata": {},
   "outputs": [],
   "source": [
    "# import necessary packages\n",
    "import os, sys, glob\n",
    "import math\n",
    "import time\n",
    "import numpy as np \n",
    "import pandas as pd\n",
    "import matplotlib.pyplot as plt\n",
    "import torch\n",
    "\n",
    "from torch.utils.data import DataLoader\n",
    "from tqdm.auto import tqdm\n",
    "from PIL import Image\n",
    "from importlib import reload # when you make changes to a .py, force reload imports\n",
    "\n",
    "\n",
    "# custom imports\n",
    "sys.path.append('../')\n",
    "\n",
    "from utils.GetLowestGPU import GetLowestGPU\n",
    "from utils.GetLR import get_lr\n",
    "from utils.GetFileNames import get_file_names\n",
    "import utils.Train as Train\n",
    "import utils.Plot as Plot\n",
    "import utils.WeightedCrossEntropy as WeightedCrossEntropy\n",
    "import utils.BuildUNet as BuildUNet\n",
    "import utils.TileGenerator as TG\n",
    "import utils.DistanceMap as DistanceMap\n",
    "\n",
    "device = torch.device(GetLowestGPU(verbose=2))"
   ]
  }
 ],
 "metadata": {
  "kernelspec": {
   "display_name": ".venv",
   "language": "python",
   "name": "python3"
  },
  "language_info": {
   "name": "python",
   "version": "3.9.5"
  }
 },
 "nbformat": 4,
 "nbformat_minor": 2
}
