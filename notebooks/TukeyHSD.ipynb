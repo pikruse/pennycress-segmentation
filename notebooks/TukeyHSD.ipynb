{
 "cells": [
  {
   "cell_type": "code",
   "execution_count": 5,
   "metadata": {},
   "outputs": [],
   "source": [
    "import sys, os, glob\n",
    "import pandas as pd\n",
    "import statsmodels.api as sm\n",
    "from statsmodels.formula.api import ols\n",
    "from statsmodels.stats.multicomp import pairwise_tukeyhsd\n",
    "\n",
    "\n",
    "sys.path.append('../')\n",
    "\n",
    "from utils.GetFileNames import get_file_names"
   ]
  },
  {
   "cell_type": "code",
   "execution_count": 6,
   "metadata": {},
   "outputs": [],
   "source": [
    "# get accuracy per image for each model\n",
    "base_path = '../data/test/{}_test_predictions_by_pod/'\n",
    "\n",
    "vanilla_path = base_path.format('vanilla')\n",
    "up_path = base_path.format('up')\n",
    "down_path = base_path.format('down')\n",
    "\n",
    "gt_path = '../data/test/test_masks_by_pod/'\n",
    "\n",
    "vanilla_names = get_file_names(vanilla_path)\n",
    "up_names = get_file_names(up_path)\n",
    "down_names = get_file_names(down_path)\n",
    "\n",
    "gt_names = get_file_names(gt_path)"
   ]
  },
  {
   "cell_type": "markdown",
   "metadata": {},
   "source": [
    "# Seed Model Significance Test"
   ]
  },
  {
   "cell_type": "code",
   "execution_count": null,
   "metadata": {},
   "outputs": [],
   "source": [
    "# create dataframe\n",
    "seed_df = pd.DataFrame({\n",
    "    'vanilla_seed': vanilla_seed_acc,\n",
    "    'upweighted_seed': up_seed_acc,\n",
    "    'downweighted_seed': down_seed_acc\n",
    "})\n",
    "seed_df_melt = pd.melt(df.reset_index(), id_vars=['index'], value_vars=['vanilla', 'upweighted', 'downweighted'])\n",
    "seed_df_melt.columns = ['index', 'treatments', 'value']"
   ]
  },
  {
   "cell_type": "code",
   "execution_count": null,
   "metadata": {},
   "outputs": [],
   "source": [
    "# run ANOVA\n",
    "model = ols('value ~ C(treatments)', data=seed_df_melt).fit()\n",
    "anova_table = sm.stats.anova_lm(model, typ=2)\n",
    "print(anova_table)\n",
    "print()"
   ]
  },
  {
   "cell_type": "code",
   "execution_count": null,
   "metadata": {},
   "outputs": [],
   "source": [
    "# run tukey HSD test\n",
    "m_comp = pairwise_tukeyhsd(endog=seed_df_melt['value'], groups=seed_df_melt['treatments'], alpha=0.05)\n",
    "print(m_comp)"
   ]
  }
 ],
 "metadata": {
  "kernelspec": {
   "display_name": ".venv",
   "language": "python",
   "name": "python3"
  },
  "language_info": {
   "codemirror_mode": {
    "name": "ipython",
    "version": 3
   },
   "file_extension": ".py",
   "mimetype": "text/x-python",
   "name": "python",
   "nbconvert_exporter": "python",
   "pygments_lexer": "ipython3",
   "version": "3.9.5"
  }
 },
 "nbformat": 4,
 "nbformat_minor": 2
}
