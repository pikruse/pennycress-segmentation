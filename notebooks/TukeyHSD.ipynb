{
 "cells": [
  {
   "cell_type": "code",
   "execution_count": 5,
   "metadata": {},
   "outputs": [],
   "source": [
    "import sys, os, glob\n",
    "import pandas as pd\n",
    "import statsmodels.api as sm\n",
    "import numpy as np\n",
    "import tqdm.notebook as tqdm\n",
    "\n",
    "from PIL import Image\n",
    "from statsmodels.formula.api import ols\n",
    "from statsmodels.stats.multicomp import pairwise_tukeyhsd\n",
    "\n",
    "\n",
    "sys.path.append('../')\n",
    "\n",
    "from utils.GetFileNames import get_file_names\n",
    "from utils.Metrics import iou"
   ]
  },
  {
   "cell_type": "code",
   "execution_count": 6,
   "metadata": {},
   "outputs": [],
   "source": [
    "# get accuracy per image for each model\n",
    "base_path = '../data/test/{}_test_predictions_by_pod/'\n",
    "\n",
    "vanilla_path = base_path.format('vanilla')\n",
    "up_path = base_path.format('up')\n",
    "down_path = base_path.format('down')\n",
    "\n",
    "gt_path = '../data/test/test_masks_by_pod/'\n",
    "\n",
    "# only need one set of names since they are the same for all models\n",
    "gt_names = get_file_names(gt_path)"
   ]
  },
  {
   "cell_type": "code",
   "execution_count": null,
   "metadata": {},
   "outputs": [],
   "source": [
    "# load the data\n",
    "vanilla_preds, up_preds, down_preds, gt_masks = [], [], [], []\n",
    "\n",
    "print('Loading data...')\n",
    "for name in tqdm(gt_names):\n",
    "    vanilla_preds.append(np.array(Image.open(vanilla_path + name)) / 255)\n",
    "    up_preds.append(np.array(Image.open(up_path + name)) / 255)\n",
    "    down_preds.append(np.array(Image.open(down_path + name)) / 255)\n",
    "    gt_masks.append(np.array(Image.open(gt_path + name)) / 255)\n",
    "print(\"Done.\")"
   ]
  },
  {
   "cell_type": "code",
   "execution_count": null,
   "metadata": {},
   "outputs": [],
   "source": [
    "# get accuracies for each model\n",
    "vanilla_seed_acc, up_seed_acc, down_seed_acc = [], [], []\n",
    "\n",
    "print(\"Calculating accuracies...\")\n",
    "for i in tqdm(range(len(gt_masks))):\n",
    "    vanilla, up, down, mask = vanilla_preds[i], up_preds[i], down_preds[i], gt_masks[i]\n",
    "\n",
    "    vanilla_seed = vanilla[:, :, 2]\n",
    "    up_seed = up[:, :, 2]\n",
    "    down_seed = down[:, :, 2]\n",
    "    mask_seed = mask[:, :, 2]\n",
    "\n",
    "    vanilla_seed_acc.append(iou(vanilla_seed, mask_seed))\n",
    "    up_seed_acc.append(iou(up_seed, mask_seed))\n",
    "    down_seed_acc.append(iou(down_seed, mask_seed))\n",
    "print(\"Done.\")\n",
    "    "
   ]
  },
  {
   "cell_type": "markdown",
   "metadata": {},
   "source": [
    "# Seed Model Significance Test"
   ]
  },
  {
   "cell_type": "code",
   "execution_count": null,
   "metadata": {},
   "outputs": [],
   "source": [
    "# create dataframe\n",
    "seed_df = pd.DataFrame({\n",
    "    'vanilla_seed': vanilla_seed_acc,\n",
    "    'upweighted_seed': up_seed_acc,\n",
    "    'downweighted_seed': down_seed_acc\n",
    "})\n",
    "seed_df_melt = pd.melt(seed_df.reset_index(), id_vars=['index'], value_vars=['vanilla', 'upweighted', 'downweighted'])\n",
    "seed_df_melt.columns = ['index', 'treatments', 'value']"
   ]
  },
  {
   "cell_type": "code",
   "execution_count": null,
   "metadata": {},
   "outputs": [],
   "source": [
    "# run ANOVA\n",
    "model = ols('value ~ C(treatments)', data=seed_df_melt).fit()\n",
    "anova_table = sm.stats.anova_lm(model, typ=2)\n",
    "print(anova_table)\n",
    "print()"
   ]
  },
  {
   "cell_type": "code",
   "execution_count": null,
   "metadata": {},
   "outputs": [],
   "source": [
    "# run tukey HSD test\n",
    "m_comp = pairwise_tukeyhsd(endog=seed_df_melt['value'], groups=seed_df_melt['treatments'], alpha=0.05)\n",
    "print(m_comp)"
   ]
  }
 ],
 "metadata": {
  "kernelspec": {
   "display_name": ".venv",
   "language": "python",
   "name": "python3"
  },
  "language_info": {
   "codemirror_mode": {
    "name": "ipython",
    "version": 3
   },
   "file_extension": ".py",
   "mimetype": "text/x-python",
   "name": "python",
   "nbconvert_exporter": "python",
   "pygments_lexer": "ipython3",
   "version": "3.9.5"
  }
 },
 "nbformat": 4,
 "nbformat_minor": 2
}
