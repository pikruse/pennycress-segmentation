{
 "cells": [
  {
   "cell_type": "code",
   "execution_count": 1,
   "metadata": {},
   "outputs": [],
   "source": [
    "import sys, os, glob\n",
    "import pandas as pd\n",
    "import statsmodels.api as sm\n",
    "import numpy as np\n",
    "import matplotlib.pyplot as plt\n",
    "\n",
    "from tqdm.notebook import tqdm\n",
    "from PIL import Image\n",
    "from statsmodels.formula.api import ols\n",
    "from statsmodels.stats.multicomp import pairwise_tukeyhsd\n",
    "from DGXutils import GetFileNames, GetLowestGPU\n",
    "\n",
    "sys.path.append('../')\n",
    "\n",
    "from utils.Metrics import iou\n",
    "from utils.Preprocessing import split_image"
   ]
  },
  {
   "cell_type": "markdown",
   "metadata": {},
   "source": [
    "# Test Significance Between Loss Functions"
   ]
  },
  {
   "cell_type": "code",
   "execution_count": 2,
   "metadata": {},
   "outputs": [],
   "source": [
    "# get accuracy per image for each model\n",
    "base_path = '../data/test/{}_test_predictions_by_pod/'\n",
    "\n",
    "vanilla_path = base_path.format('vanilla')\n",
    "up_path = base_path.format('up')\n",
    "down_path = base_path.format('down')\n",
    "\n",
    "gt_path = '../data/test/test_masks_by_pod/'\n",
    "\n",
    "# only need one set of names since they are the same for all models\n",
    "gt_names = GetFileNames(gt_path)"
   ]
  },
  {
   "cell_type": "code",
   "execution_count": 3,
   "metadata": {},
   "outputs": [
    {
     "name": "stdout",
     "output_type": "stream",
     "text": [
      "Loading data...\n"
     ]
    },
    {
     "data": {
      "application/vnd.jupyter.widget-view+json": {
       "model_id": "e70774ddaf864adb8b81cc098de8f248",
       "version_major": 2,
       "version_minor": 0
      },
      "text/plain": [
       "  0%|          | 0/64 [00:00<?, ?it/s]"
      ]
     },
     "metadata": {},
     "output_type": "display_data"
    },
    {
     "name": "stdout",
     "output_type": "stream",
     "text": [
      "Done.\n"
     ]
    }
   ],
   "source": [
    "# load the data\n",
    "vanilla_preds, up_preds, down_preds, gt_masks = [], [], [], []\n",
    "\n",
    "print('Loading data...')\n",
    "for name in tqdm(gt_names):\n",
    "    # load\n",
    "    vanilla_pred = np.array(Image.open(vanilla_path + 'pred_' + name)) / 255\n",
    "    up_pred = np.array(Image.open(up_path + 'pred_' + name)) / 255\n",
    "    down_pred = np.array(Image.open(down_path + 'pred_' + name)) / 255\n",
    "\n",
    "    # turn bg to black\n",
    "    vanilla_pred[vanilla_pred.sum(axis=2) == 3] = 0\n",
    "    up_pred[up_pred.sum(axis=2) == 3] = 0\n",
    "    down_pred[down_pred.sum(axis=2) == 3] = 0\n",
    "\n",
    "    # append\n",
    "    vanilla_preds.append(vanilla_pred)\n",
    "    up_preds.append(up_pred)\n",
    "    down_preds.append(down_pred)\n",
    "\n",
    "    gt_masks.append(np.array(Image.open(gt_path + name)) / 255)\n",
    "print(\"Done.\")"
   ]
  },
  {
   "cell_type": "code",
   "execution_count": 4,
   "metadata": {},
   "outputs": [
    {
     "name": "stdout",
     "output_type": "stream",
     "text": [
      "Calculating accuracies...\n"
     ]
    },
    {
     "data": {
      "application/vnd.jupyter.widget-view+json": {
       "model_id": "b1f6032dc6ca4355b639d8ce9e9a607a",
       "version_major": 2,
       "version_minor": 0
      },
      "text/plain": [
       "  0%|          | 0/64 [00:00<?, ?it/s]"
      ]
     },
     "metadata": {},
     "output_type": "display_data"
    },
    {
     "name": "stdout",
     "output_type": "stream",
     "text": [
      "Done.\n"
     ]
    }
   ],
   "source": [
    "# get accuracies for each model\n",
    "vanilla_seed_acc, up_seed_acc, down_seed_acc = [], [], []\n",
    "\n",
    "print(\"Calculating accuracies...\")\n",
    "for i in tqdm(range(len(gt_masks))):\n",
    "    vanilla, up, down, mask = vanilla_preds[i], up_preds[i], down_preds[i], gt_masks[i]\n",
    "\n",
    "    vanilla_seed = vanilla[:, :, 2]\n",
    "    up_seed = up[:, :, 2]\n",
    "    down_seed = down[:, :, 2]\n",
    "    mask_seed = mask[:, :, 2]\n",
    "\n",
    "    vanilla_seed_acc.append(iou(vanilla_seed, mask_seed))\n",
    "    up_seed_acc.append(iou(up_seed, mask_seed))\n",
    "    down_seed_acc.append(iou(down_seed, mask_seed))\n",
    "print(\"Done.\")\n",
    "    "
   ]
  },
  {
   "cell_type": "code",
   "execution_count": 5,
   "metadata": {},
   "outputs": [
    {
     "data": {
      "text/plain": [
       "(0.7692997804533273, 0.7666305824958907, 0.7718830387601895)"
      ]
     },
     "execution_count": 5,
     "metadata": {},
     "output_type": "execute_result"
    }
   ],
   "source": [
    "np.array(vanilla_seed_acc).mean(), np.array(up_seed_acc).mean(), np.array(down_seed_acc).mean()"
   ]
  },
  {
   "cell_type": "markdown",
   "metadata": {},
   "source": [
    "# Seed Model Significance Test"
   ]
  },
  {
   "cell_type": "code",
   "execution_count": 6,
   "metadata": {},
   "outputs": [],
   "source": [
    "# create dataframe\n",
    "seed_df = pd.DataFrame({\n",
    "    'vanilla': vanilla_seed_acc,\n",
    "    'upweighted': up_seed_acc,\n",
    "    'downweighted': down_seed_acc\n",
    "})\n",
    "seed_df_melt = pd.melt(seed_df.reset_index(), id_vars=['index'], value_vars=['vanilla', 'upweighted', 'downweighted'])\n",
    "seed_df_melt.columns = ['index', 'treatments', 'value']"
   ]
  },
  {
   "cell_type": "code",
   "execution_count": 7,
   "metadata": {},
   "outputs": [
    {
     "name": "stdout",
     "output_type": "stream",
     "text": [
      "                 sum_sq     df         F    PR(>F)\n",
      "C(treatments)  0.000883    2.0  0.035066  0.965548\n",
      "Residual       2.379375  189.0       NaN       NaN\n",
      "\n"
     ]
    }
   ],
   "source": [
    "# run ANOVA\n",
    "model = ols('value ~ C(treatments)', data=seed_df_melt).fit()\n",
    "anova_table = sm.stats.anova_lm(model, typ=2)\n",
    "print(anova_table)\n",
    "print()"
   ]
  },
  {
   "cell_type": "code",
   "execution_count": 8,
   "metadata": {},
   "outputs": [
    {
     "name": "stdout",
     "output_type": "stream",
     "text": [
      "     Multiple Comparison of Means - Tukey HSD, FWER=0.05     \n",
      "=============================================================\n",
      "   group1      group2   meandiff p-adj   lower  upper  reject\n",
      "-------------------------------------------------------------\n",
      "downweighted upweighted  -0.0053 0.9621 -0.0521 0.0416  False\n",
      "downweighted    vanilla  -0.0026 0.9907 -0.0494 0.0443  False\n",
      "  upweighted    vanilla   0.0027 0.9901 -0.0442 0.0495  False\n",
      "-------------------------------------------------------------\n"
     ]
    }
   ],
   "source": [
    "# run tukey HSD test\n",
    "m_comp = pairwise_tukeyhsd(endog=seed_df_melt['value'], groups=seed_df_melt['treatments'], alpha=0.05)\n",
    "print(m_comp)"
   ]
  },
  {
   "cell_type": "markdown",
   "metadata": {},
   "source": [
    "# Model v. Human Significance Test"
   ]
  },
  {
   "cell_type": "code",
   "execution_count": 9,
   "metadata": {},
   "outputs": [],
   "source": [
    "# get accuracy per image for each model\n",
    "out_path = '../data/human_eval_by_pod/'\n",
    "john_path = out_path + 'john/490-ref-ISU_073-rep_1-W - JL_{}.png'\n",
    "bill_path = out_path + 'bill/BILL_490-ref-ISU_073-rep_1-W_{}.png'\n",
    "roshan_path = out_path + 'roshan/CRA_outline_{}.png'\n",
    "pete_path = out_path + 'pete/pete_490-ref-ISU_073-rep_1-W_{}.png'\n",
    "avg_path = out_path + 'avg/avg_pred_{}.png'\n",
    "\n",
    "model_path = '/mnt/DGX01/Personal/krusepi/codebase/projects/phenotyping/PennycressUNet/data/test/vanilla_test_predictions_by_pod/pred_490-ref-ISU_073-rep_1-W_{}.png'\n",
    "\n",
    "# only need one set of names since they are the same for all models\n",
    "names = GetFileNames(out_path + 'pete/')"
   ]
  },
  {
   "cell_type": "code",
   "execution_count": 10,
   "metadata": {},
   "outputs": [
    {
     "name": "stdout",
     "output_type": "stream",
     "text": [
      "Loading data...\n"
     ]
    },
    {
     "data": {
      "application/vnd.jupyter.widget-view+json": {
       "model_id": "f6dddb45b0c2476ebaef91c6993b28f2",
       "version_major": 2,
       "version_minor": 0
      },
      "text/plain": [
       "  0%|          | 0/15 [00:00<?, ?it/s]"
      ]
     },
     "metadata": {},
     "output_type": "display_data"
    },
    {
     "name": "stdout",
     "output_type": "stream",
     "text": [
      "Done.\n"
     ]
    }
   ],
   "source": [
    "# load the data\n",
    "model_preds, john_preds, bill_preds, pete_preds, roshan_preds, avg_preds = [], [], [], [], [], []\n",
    "\n",
    "print('Loading data...')\n",
    "for i in tqdm(range(len(names))):\n",
    "    # load\n",
    "    model_pred = np.array(Image.open(model_path.format(i))) / 255\n",
    "    john_pred = np.array(Image.open(john_path.format(i))) / 255\n",
    "    bill_pred = np.array(Image.open(bill_path.format(i))) / 255\n",
    "    pete_pred = np.array(Image.open(pete_path.format(i))) / 255\n",
    "    roshan_pred = np.array(Image.open(roshan_path.format(i))) / 255\n",
    "    avg_pred = np.array(Image.open(avg_path.format(i))) / 255\n",
    "    \n",
    "    # turn bg to black\n",
    "    model_pred[model_pred.sum(axis=2) == 3] = 0\n",
    "    john_pred[john_pred.sum(axis=2) == 3] = 0\n",
    "    bill_pred[bill_pred.sum(axis=2) == 3] = 0\n",
    "    pete_pred[pete_pred.sum(axis=2) == 3] = 0\n",
    "    roshan_pred[roshan_pred.sum(axis=2) == 3] = 0\n",
    "    avg_pred[avg_pred.sum(axis=2) == 3] = 0\n",
    "\n",
    "    # append\n",
    "    model_preds.append(model_pred)\n",
    "    john_preds.append(john_pred)\n",
    "    bill_preds.append(pete_pred)\n",
    "    pete_preds.append(avg_pred)\n",
    "    roshan_preds.append(avg_pred)\n",
    "    avg_preds.append(avg_pred)\n",
    "\n",
    "print(\"Done.\")\n"
   ]
  },
  {
   "cell_type": "code",
   "execution_count": 11,
   "metadata": {},
   "outputs": [],
   "source": [
    "def split_channels(mask):\n",
    "    w = mask[:, :, 0]\n",
    "    e = mask[:, :, 1]\n",
    "    s = mask[:, :, 2]\n",
    "    return (w, e, s)"
   ]
  },
  {
   "cell_type": "code",
   "execution_count": 46,
   "metadata": {},
   "outputs": [
    {
     "name": "stdout",
     "output_type": "stream",
     "text": [
      "Calculating accuracies...\n"
     ]
    },
    {
     "data": {
      "application/vnd.jupyter.widget-view+json": {
       "model_id": "11eab20f6c0042e0ae420eb83def6e50",
       "version_major": 2,
       "version_minor": 0
      },
      "text/plain": [
       "  0%|          | 0/15 [00:00<?, ?it/s]"
      ]
     },
     "metadata": {},
     "output_type": "display_data"
    },
    {
     "name": "stdout",
     "output_type": "stream",
     "text": [
      "Done.\n"
     ]
    }
   ],
   "source": [
    "# option to use \"average\" human pred image\n",
    "human_avg = False\n",
    "\n",
    "# get accuracies for each model\n",
    "model_w_acc, human_w_acc, = [], []\n",
    "model_e_acc, human_e_acc, = [], []\n",
    "model_s_acc, human_s_acc, = [], []\n",
    "\n",
    "print(\"Calculating accuracies...\")\n",
    "for i in tqdm(range(len(names))):\n",
    "\n",
    "    ## get masks\n",
    "    model, avg, bill, john, pete, roshan = model_preds[i], avg_preds[i], bill_preds[i], john_preds[i], pete_preds[i], roshan_preds[i]\n",
    "\n",
    "    ## get channels\n",
    "    model_w, model_e, model_s = split_channels(model)\n",
    "    avg_w, avg_e, avg_s = split_channels(avg)\n",
    "    bill_w, bill_e, bill_s = split_channels(bill)\n",
    "    john_w, john_e, john_s = split_channels(john)\n",
    "    pete_w, pete_e, pete_s = split_channels(pete)\n",
    "    roshan_w, roshan_e, roshan_s = split_channels(roshan)\n",
    "\n",
    "    ## model v. avg accuracy\n",
    "    if human_avg == False:\n",
    "        model_w_acc.append(iou(model_w, avg_w))\n",
    "        model_e_acc.append(iou(model_e, avg_e))\n",
    "        model_s_acc.append(iou(model_s, avg_s))\n",
    "\n",
    "    else:\n",
    "        # alt calculation\n",
    "        # mp\n",
    "        mp_w_iou = iou(model_w, pete_w)\n",
    "        mp_e_iou = iou(model_e, pete_e)\n",
    "        mp_s_iou = iou(model_s, pete_s)\n",
    "\n",
    "        # mb\n",
    "        mb_w_iou = iou(model_w, bill_w)\n",
    "        mb_e_iou = iou(model_e, bill_e)\n",
    "        mb_s_iou = iou(model_s, bill_s)\n",
    "\n",
    "        # mj\n",
    "        mj_w_iou = iou(model_w, john_w)\n",
    "        mj_e_iou = iou(model_e, john_e)\n",
    "        mj_s_iou = iou(model_s, john_s)\n",
    "\n",
    "        # mr\n",
    "        mr_w_iou = iou(model_w, roshan_w)\n",
    "        mr_e_iou = iou(model_e, roshan_e)\n",
    "        mr_s_iou = iou(model_s, roshan_s)\n",
    "        \n",
    "\n",
    "        model_w_acc.append((mp_w_iou + mb_w_iou + mj_w_iou + mr_w_iou) / 4.0)\n",
    "        model_e_acc.append((mp_e_iou + mb_e_iou + mj_e_iou + mr_e_iou) / 4.0)\n",
    "        model_s_acc.append((mp_s_iou + mb_s_iou + mj_s_iou + mr_s_iou) / 4.0)\n",
    "\n",
    "    ## human v. human accuracy\n",
    "    # p-b\n",
    "    pb_w_iou = iou(pete_w, bill_w)\n",
    "    pb_e_iou = iou(pete_e, bill_e)\n",
    "    pb_s_iou = iou(pete_s, bill_s)\n",
    "\n",
    "    # p-j\n",
    "    pj_w_iou = iou(pete_w, john_w)\n",
    "    pj_e_iou = iou(pete_e, john_e)\n",
    "    pj_s_iou = iou(pete_s, john_s)\n",
    "\n",
    "    # p-r\n",
    "    pr_w_iou = iou(pete_w, roshan_w)\n",
    "    pr_e_iou = iou(pete_e, roshan_e)\n",
    "    pr_s_iou = iou(pete_s, roshan_s)\n",
    "\n",
    "    # b-j\n",
    "    bj_w_iou = iou(bill_w, john_w)\n",
    "    bj_e_iou = iou(bill_e, john_e)\n",
    "    bj_s_iou = iou(bill_s, john_s)\n",
    "\n",
    "    # b-r\n",
    "    br_w_iou = iou(bill_w, roshan_w)\n",
    "    br_e_iou = iou(bill_e, roshan_e)\n",
    "    br_s_iou = iou(bill_s, roshan_s)\n",
    "\n",
    "    # j-r\n",
    "    jr_w_iou = iou(john_w, roshan_w)\n",
    "    jr_e_iou = iou(john_e, roshan_e)\n",
    "    jr_s_iou = iou(john_s, roshan_s)\n",
    "\n",
    "    # average em out\n",
    "    human_w_acc.append((pb_w_iou + pj_w_iou + pr_w_iou + bj_w_iou + br_w_iou + jr_w_iou) / 6.0)\n",
    "    human_e_acc.append((pb_e_iou + pj_e_iou + pr_e_iou + bj_e_iou + br_e_iou + jr_e_iou) / 6.0)\n",
    "    human_s_acc.append((pb_s_iou + pj_s_iou + pr_s_iou + bj_s_iou + br_s_iou + jr_s_iou) / 6.0)\n",
    "    \n",
    "print(\"Done.\")"
   ]
  },
  {
   "cell_type": "markdown",
   "metadata": {},
   "source": [
    "# Seeds"
   ]
  },
  {
   "cell_type": "code",
   "execution_count": 47,
   "metadata": {},
   "outputs": [],
   "source": [
    "# create dataframe\n",
    "seed_df = pd.DataFrame({\n",
    "    'model': model_s_acc,\n",
    "    'human': human_s_acc,\n",
    "})\n",
    "seed_df_melt = pd.melt(seed_df.reset_index(), id_vars=['index'], value_vars=['model', 'human'])\n",
    "seed_df_melt.columns = ['index', 'treatments', 'value']"
   ]
  },
  {
   "cell_type": "code",
   "execution_count": 48,
   "metadata": {},
   "outputs": [
    {
     "data": {
      "image/png": "[encoded data removed]",
      "text/plain": [
       "<Figure size 640x480 with 1 Axes>"
      ]
     },
     "metadata": {},
     "output_type": "display_data"
    }
   ],
   "source": [
    "# plot dist\n",
    "plt.hist(seed_df['model'], alpha = 0.7)\n",
    "plt.hist(seed_df['human'], alpha = 0.7)\n",
    "plt.show()"
   ]
  },
  {
   "cell_type": "code",
   "execution_count": 50,
   "metadata": {},
   "outputs": [
    {
     "name": "stdout",
     "output_type": "stream",
     "text": [
      "T-statistic: -1.3835596447702874\n",
      "P-value: 0.1774254454032819\n",
      "Degrees of freedom: 28.0\n",
      "NOT A SIGNIFICANT RESULT: FAIL TO REJECT THE NULL\n"
     ]
    }
   ],
   "source": [
    "# run t-test\n",
    "t_stat, p_value, df = sm.stats.ttest_ind(seed_df['model'], seed_df['human'])\n",
    "\n",
    "print(\"T-statistic:\", t_stat)\n",
    "print(\"P-value:\", p_value)\n",
    "print(\"Degrees of freedom:\", df)\n",
    "if p_value < 0.05:\n",
    "    print(\"SIGNIFICANT RESULT: REJECT THE NULL\")\n",
    "else:\n",
    "    print(\"NOT A SIGNIFICANT RESULT: FAIL TO REJECT THE NULL\")\n"
   ]
  },
  {
   "cell_type": "code",
   "execution_count": 51,
   "metadata": {},
   "outputs": [
    {
     "name": "stdout",
     "output_type": "stream",
     "text": [
      "                 sum_sq    df         F    PR(>F)\n",
      "C(treatments)  0.001637   1.0  1.914237  0.177425\n",
      "Residual       0.023949  28.0       NaN       NaN\n",
      "\n"
     ]
    }
   ],
   "source": [
    "# run ANOVA\n",
    "model = ols('value ~ C(treatments)', data=seed_df_melt).fit()\n",
    "anova_table = sm.stats.anova_lm(model, typ=2)\n",
    "print(anova_table)\n",
    "print()"
   ]
  },
  {
   "cell_type": "code",
   "execution_count": 52,
   "metadata": {},
   "outputs": [
    {
     "name": "stdout",
     "output_type": "stream",
     "text": [
      "Multiple Comparison of Means - Tukey HSD, FWER=0.05\n",
      "===================================================\n",
      "group1 group2 meandiff p-adj   lower  upper  reject\n",
      "---------------------------------------------------\n",
      " human  model  -0.0148 0.1774 -0.0366 0.0071  False\n",
      "---------------------------------------------------\n"
     ]
    }
   ],
   "source": [
    "# run tukey HSD test\n",
    "m_comp = pairwise_tukeyhsd(endog=seed_df_melt['value'], groups=seed_df_melt['treatments'], alpha=0.05)\n",
    "print(m_comp)"
   ]
  },
  {
   "cell_type": "markdown",
   "metadata": {},
   "source": [
    "# Envs"
   ]
  },
  {
   "cell_type": "code",
   "execution_count": 53,
   "metadata": {},
   "outputs": [],
   "source": [
    "# create dataframe\n",
    "env_df = pd.DataFrame({\n",
    "    'model': model_e_acc,\n",
    "    'human': human_e_acc,\n",
    "})\n",
    "env_df_melt = pd.melt(env_df.reset_index(), id_vars=['index'], value_vars=['model', 'human'])\n",
    "env_df_melt.columns = ['index', 'treatments', 'value']"
   ]
  },
  {
   "cell_type": "code",
   "execution_count": 54,
   "metadata": {},
   "outputs": [
    {
     "data": {
      "image/png": "[encoded data removed]",
      "text/plain": [
       "<Figure size 640x480 with 1 Axes>"
      ]
     },
     "metadata": {},
     "output_type": "display_data"
    }
   ],
   "source": [
    "# plot dist\n",
    "plt.hist(env_df['model'], alpha = 0.7)\n",
    "plt.hist(env_df['human'], alpha = 0.7)\n",
    "plt.show()"
   ]
  },
  {
   "cell_type": "code",
   "execution_count": 55,
   "metadata": {},
   "outputs": [
    {
     "name": "stdout",
     "output_type": "stream",
     "text": [
      "T-statistic: -2.9305347333545355\n",
      "P-value: 0.006665734703796617\n",
      "Degrees of freedom: 28.0\n",
      "SIGNIFICANT RESULT: REJECT THE NULL\n"
     ]
    }
   ],
   "source": [
    "# run t-test\n",
    "t_stat, p_value, df = sm.stats.ttest_ind(env_df['model'], env_df['human'])\n",
    "\n",
    "print(\"T-statistic:\", t_stat)\n",
    "print(\"P-value:\", p_value)\n",
    "print(\"Degrees of freedom:\", df)\n",
    "if p_value < 0.05:\n",
    "    print(\"SIGNIFICANT RESULT: REJECT THE NULL\")\n",
    "else:\n",
    "    print(\"NOT A SIGNIFICANT RESULT: FAIL TO REJECT THE NULL\")"
   ]
  },
  {
   "cell_type": "code",
   "execution_count": 56,
   "metadata": {},
   "outputs": [
    {
     "name": "stdout",
     "output_type": "stream",
     "text": [
      "                 sum_sq    df         F    PR(>F)\n",
      "C(treatments)  0.003013   1.0  8.588034  0.006666\n",
      "Residual       0.009822  28.0       NaN       NaN\n",
      "\n"
     ]
    }
   ],
   "source": [
    "# run ANOVA\n",
    "model = ols('value ~ C(treatments)', data=env_df_melt).fit()\n",
    "anova_table = sm.stats.anova_lm(model, typ=2)\n",
    "print(anova_table)\n",
    "print()"
   ]
  },
  {
   "cell_type": "code",
   "execution_count": 57,
   "metadata": {},
   "outputs": [
    {
     "name": "stdout",
     "output_type": "stream",
     "text": [
      "Multiple Comparison of Means - Tukey HSD, FWER=0.05\n",
      "===================================================\n",
      "group1 group2 meandiff p-adj   lower  upper  reject\n",
      "---------------------------------------------------\n",
      " human  model    -0.02 0.0067 -0.0341 -0.006   True\n",
      "---------------------------------------------------\n"
     ]
    }
   ],
   "source": [
    "# run tukey HSD test\n",
    "m_comp = pairwise_tukeyhsd(endog=env_df_melt['value'], groups=env_df_melt['treatments'], alpha=0.05)\n",
    "print(m_comp)"
   ]
  },
  {
   "cell_type": "markdown",
   "metadata": {},
   "source": [
    "# Wings"
   ]
  },
  {
   "cell_type": "code",
   "execution_count": 58,
   "metadata": {},
   "outputs": [],
   "source": [
    "# create dataframe\n",
    "wing_df = pd.DataFrame({\n",
    "    'model': model_w_acc,\n",
    "    'human': human_w_acc,\n",
    "})\n",
    "wing_df_melt = pd.melt(wing_df.reset_index(), id_vars=['index'], value_vars=['model', 'human'])\n",
    "wing_df_melt.columns = ['index', 'treatments', 'value']"
   ]
  },
  {
   "cell_type": "code",
   "execution_count": 59,
   "metadata": {},
   "outputs": [
    {
     "data": {
      "image/png": "[encoded data removed]",
      "text/plain": [
       "<Figure size 640x480 with 1 Axes>"
      ]
     },
     "metadata": {},
     "output_type": "display_data"
    }
   ],
   "source": [
    "# plot dist\n",
    "plt.hist(wing_df['model'], alpha = 0.7)\n",
    "plt.hist(wing_df['human'], alpha = 0.7)\n",
    "plt.show()"
   ]
  },
  {
   "cell_type": "code",
   "execution_count": 60,
   "metadata": {},
   "outputs": [
    {
     "name": "stdout",
     "output_type": "stream",
     "text": [
      "T-statistic: 0.1217390346203126\n",
      "P-value: 0.9039752084117083\n",
      "Degrees of freedom: 28.0\n",
      "NOT A SIGNIFICANT RESULT: FAIL TO REJECT THE NULL\n"
     ]
    }
   ],
   "source": [
    "# run t-test\n",
    "t_stat, p_value, df = sm.stats.ttest_ind(wing_df['model'], wing_df['human'])\n",
    "\n",
    "print(\"T-statistic:\", t_stat)\n",
    "print(\"P-value:\", p_value)\n",
    "print(\"Degrees of freedom:\", df)\n",
    "if p_value < 0.05:\n",
    "    print(\"SIGNIFICANT RESULT: REJECT THE NULL\")\n",
    "else:\n",
    "    print(\"NOT A SIGNIFICANT RESULT: FAIL TO REJECT THE NULL\")"
   ]
  },
  {
   "cell_type": "code",
   "execution_count": 61,
   "metadata": {},
   "outputs": [
    {
     "name": "stdout",
     "output_type": "stream",
     "text": [
      "                     sum_sq    df        F    PR(>F)\n",
      "C(treatments)  8.527848e-07   1.0  0.01482  0.903975\n",
      "Residual       1.611157e-03  28.0      NaN       NaN\n",
      "\n"
     ]
    }
   ],
   "source": [
    "# run ANOVA\n",
    "model = ols('value ~ C(treatments)', data=wing_df_melt).fit()\n",
    "anova_table = sm.stats.anova_lm(model, typ=2)\n",
    "print(anova_table)\n",
    "print()"
   ]
  },
  {
   "cell_type": "code",
   "execution_count": 62,
   "metadata": {},
   "outputs": [
    {
     "name": "stdout",
     "output_type": "stream",
     "text": [
      "Multiple Comparison of Means - Tukey HSD, FWER=0.05\n",
      "=================================================\n",
      "group1 group2 meandiff p-adj  lower  upper reject\n",
      "-------------------------------------------------\n",
      " human  model   0.0003 0.904 -0.0053 0.006  False\n",
      "-------------------------------------------------\n"
     ]
    }
   ],
   "source": [
    "# run tukey HSD test\n",
    "m_comp = pairwise_tukeyhsd(endog=wing_df_melt['value'], groups=wing_df_melt['treatments'], alpha=0.05)\n",
    "print(m_comp)"
   ]
  },
  {
   "cell_type": "markdown",
   "metadata": {},
   "source": [
    "# Plotting"
   ]
  },
  {
   "cell_type": "code",
   "execution_count": 63,
   "metadata": {},
   "outputs": [],
   "source": [
    "# make total iou dict\n",
    "ious = {}"
   ]
  }
 ],
 "metadata": {
  "kernelspec": {
   "display_name": ".venv",
   "language": "python",
   "name": "python3"
  },
  "language_info": {
   "codemirror_mode": {
    "name": "ipython",
    "version": 3
   },
   "file_extension": ".py",
   "mimetype": "text/x-python",
   "name": "python",
   "nbconvert_exporter": "python",
   "pygments_lexer": "ipython3",
   "version": "3.12.3"
  }
 },
 "nbformat": 4,
 "nbformat_minor": 2
}
